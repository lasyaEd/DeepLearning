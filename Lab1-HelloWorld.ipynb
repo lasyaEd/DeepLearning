{
 "cells": [
  {
   "cell_type": "markdown",
   "id": "674663da-fa93-4f8d-97cc-1684979eb5dc",
   "metadata": {},
   "source": [
    "#  Hello World!\n",
    "\n",
    "###  **DSBA 6165: AI & Deep Learning**\n"
   ]
  },
  {
   "cell_type": "markdown",
   "id": "49fcd39b",
   "metadata": {},
   "source": [
    "## Goal\n",
    "\n",
    "The goal of this lab activity is practicing the simple deep learning example to become familiar with the deep learning settings. In class, we have learned that the four key components of deep learning are 1) data, 2) model, 3) objective function, and 4) optimization algorithm. Let us review how these components work together to solve the popular MNIST problem. \n",
    "\n",
    "This lab adopts [TensorFlow 2 quickstart for beginners](https://www.tensorflow.org/tutorials/quickstart/beginner) for your Hello World practice. "
   ]
  },
  {
   "cell_type": "markdown",
   "id": "5439a488",
   "metadata": {},
   "source": [
    "## Data"
   ]
  },
  {
   "cell_type": "markdown",
   "id": "60ce8e1e",
   "metadata": {},
   "source": [
    "Let us first load the tensorflow to get started. "
   ]
  },
  {
   "cell_type": "code",
   "execution_count": 1,
   "id": "464537b0",
   "metadata": {},
   "outputs": [
    {
     "name": "stderr",
     "output_type": "stream",
     "text": [
      "2023-01-06 20:43:00.864941: I tensorflow/core/platform/cpu_feature_guard.cc:193] This TensorFlow binary is optimized with oneAPI Deep Neural Network Library (oneDNN) to use the following CPU instructions in performance-critical operations:  AVX2 FMA\n",
      "To enable them in other operations, rebuild TensorFlow with the appropriate compiler flags.\n"
     ]
    },
    {
     "name": "stdout",
     "output_type": "stream",
     "text": [
      "TF version: 2.11.0\n"
     ]
    }
   ],
   "source": [
    "import tensorflow as tf\n",
    "print(\"TF version:\", tf.__version__)\n",
    "\n",
    "import matplotlib.pyplot as plt      "
   ]
  },
  {
   "cell_type": "markdown",
   "id": "3a22dcc4",
   "metadata": {},
   "source": [
    "Now, let us load the data. Fortunately, tf.keras embeds the MNIST dataset, so we can just use it."
   ]
  },
  {
   "cell_type": "code",
   "execution_count": 2,
   "id": "b6e4f583",
   "metadata": {},
   "outputs": [],
   "source": [
    "mnist = tf.keras.datasets.mnist\n",
    "\n",
    "(x_train, y_train), (x_test, y_test) = mnist.load_data()\n",
    "x_train, x_test = x_train / 255., x_test / 255"
   ]
  },
  {
   "cell_type": "markdown",
   "id": "07cfdfc8",
   "metadata": {},
   "source": [
    "### Visualization of data\n",
    "\n",
    "Let us take a look at some sample images in the dataset. The hand-written digits vary quite a lot, so it is not easy to identify the correct digits earlier, which is now quite easy problem for a simple deep learning model.   "
   ]
  },
  {
   "cell_type": "code",
   "execution_count": 3,
   "id": "ea3373ed",
   "metadata": {},
   "outputs": [
    {
     "data": {
      "image/png": "[encoded data removed]",
      "text/plain": [
       "<Figure size 640x480 with 15 Axes>"
      ]
     },
     "metadata": {},
     "output_type": "display_data"
    }
   ],
   "source": [
    "fig = plt.figure()\n",
    "plt.tight_layout()\n",
    "for i in range(15):\n",
    "    plt.subplot(3,5,i+1)\n",
    "    plt.imshow(x_train[i], cmap='gray', interpolation='none')\n",
    "    plt.title(\"{}\".format(y_train[i]))\n",
    "    plt.axis('off')\n"
   ]
  },
  {
   "cell_type": "markdown",
   "id": "651cccb4",
   "metadata": {},
   "source": [
    "## Model\n",
    "\n",
    "NOw we build a neural network with one hidden layer and one output layer. The first [Flatten](https://www.tensorflow.org/api_docs/python/tf/keras/layers/Flatten) simply reshape the 2-dimensional image into 1-dimensional vector with all pixel values. [Sequential](https://www.tensorflow.org/api_docs/python/tf/keras/Sequential) allows for stacking layers which consists of one hidden layer ([Dense](https://www.tensorflow.org/api_docs/python/tf/keras/layers/Dense)) with 128 hidden units (neurons) and ReLU activation function for nonlinear transformation and an output layer that produces 10 output values.  "
   ]
  },
  {
   "cell_type": "code",
   "execution_count": 4,
   "id": "0f89c1a5",
   "metadata": {},
   "outputs": [
    {
     "name": "stderr",
     "output_type": "stream",
     "text": [
      "2023-01-06 20:43:19.604301: I tensorflow/core/platform/cpu_feature_guard.cc:193] This TensorFlow binary is optimized with oneAPI Deep Neural Network Library (oneDNN) to use the following CPU instructions in performance-critical operations:  AVX2 FMA\n",
      "To enable them in other operations, rebuild TensorFlow with the appropriate compiler flags.\n"
     ]
    }
   ],
   "source": [
    "model = tf.keras.models.Sequential([\n",
    "  tf.keras.layers.Flatten(input_shape=(28, 28)),\n",
    "  tf.keras.layers.Dense(128, activation='relu'),\n",
    "  tf.keras.layers.Dense(10)\n",
    "])"
   ]
  },
  {
   "cell_type": "markdown",
   "id": "88d30453",
   "metadata": {},
   "source": [
    "<code>summary()</code> function creates the table that shows the network architecture. We can see that the input layer gets 784 values and pass it to the hidden layer with 128 units (with 100,480 parameters). The hidden units compute the weighted sum and apply activation function to produce 128 outputs, which are the input to the output layer. Lastly, the output layer produces 10 logit values. "
   ]
  },
  {
   "cell_type": "code",
   "execution_count": 5,
   "id": "ca5c3193",
   "metadata": {},
   "outputs": [
    {
     "name": "stdout",
     "output_type": "stream",
     "text": [
      "Model: \"sequential\"\n",
      "_________________________________________________________________\n",
      " Layer (type)                Output Shape              Param #   \n",
      "=================================================================\n",
      " flatten (Flatten)           (None, 784)               0         \n",
      "                                                                 \n",
      " dense (Dense)               (None, 128)               100480    \n",
      "                                                                 \n",
      " dense_1 (Dense)             (None, 10)                1290      \n",
      "                                                                 \n",
      "=================================================================\n",
      "Total params: 101,770\n",
      "Trainable params: 101,770\n",
      "Non-trainable params: 0\n",
      "_________________________________________________________________\n"
     ]
    }
   ],
   "source": [
    "model.summary()"
   ]
  },
  {
   "cell_type": "markdown",
   "id": "d81b3be3",
   "metadata": {},
   "source": [
    "Let us try to use the model to make predictions. We can just call the model to produce outputs and use <code>numpy()</code> to convert the output into numpy array. \n"
   ]
  },
  {
   "cell_type": "code",
   "execution_count": 6,
   "id": "39febe7d",
   "metadata": {},
   "outputs": [
    {
     "data": {
      "text/plain": [
       "array([[-0.5359098 ,  0.34523177, -0.31031746, -0.10942972, -0.24549435,\n",
       "        -0.3606855 , -0.16559297,  0.26409328,  0.08068685,  0.57019526]],\n",
       "      dtype=float32)"
      ]
     },
     "execution_count": 6,
     "metadata": {},
     "output_type": "execute_result"
    }
   ],
   "source": [
    "predictions = model(x_train[:1]).numpy()\n",
    "predictions\n"
   ]
  },
  {
   "cell_type": "markdown",
   "id": "c0e84ca5",
   "metadata": {},
   "source": [
    "Hmm. It produces some outputs. Well.. Do you know what they represent? Share your thought with classmates before you move on. "
   ]
  },
  {
   "cell_type": "markdown",
   "id": "066cf9de",
   "metadata": {},
   "source": [
    "Now, why do we apply <code>softmax()</code> here? Any idea? "
   ]
  },
  {
   "cell_type": "code",
   "execution_count": 7,
   "id": "9c1f1a6d",
   "metadata": {},
   "outputs": [
    {
     "data": {
      "text/plain": [
       "array([[0.05788381, 0.13971147, 0.07253216, 0.08866966, 0.07738966,\n",
       "        0.06896934, 0.08382695, 0.12882319, 0.10723626, 0.17495745]],\n",
       "      dtype=float32)"
      ]
     },
     "execution_count": 7,
     "metadata": {},
     "output_type": "execute_result"
    }
   ],
   "source": [
    "tf.nn.softmax(predictions).numpy()\n"
   ]
  },
  {
   "cell_type": "markdown",
   "id": "db77336a",
   "metadata": {},
   "source": [
    "Is this output correct? Let us see the image to see if the output is correct."
   ]
  },
  {
   "cell_type": "code",
   "execution_count": 8,
   "id": "4296d7b3",
   "metadata": {},
   "outputs": [
    {
     "data": {
      "text/plain": [
       "<matplotlib.image.AxesImage at 0x7fb87e170f40>"
      ]
     },
     "execution_count": 8,
     "metadata": {},
     "output_type": "execute_result"
    },
    {
     "data": {
      "image/png": "[encoded data removed]",
      "text/plain": [
       "<Figure size 640x480 with 1 Axes>"
      ]
     },
     "metadata": {},
     "output_type": "display_data"
    }
   ],
   "source": [
    "plt.imshow(x_train[0], cmap='gray', interpolation='none')\n"
   ]
  },
  {
   "cell_type": "markdown",
   "id": "eb4ab409",
   "metadata": {},
   "source": [
    "\n",
    "<font color=\"red\">**PAUSE:  When you reach here, start to think about what we need to do to make correct prediction.**</font>\n",
    "\n",
    "We have the following codes without any comments. Let us discuss the following codes to figure out what is happening here. "
   ]
  },
  {
   "cell_type": "markdown",
   "id": "849bf237",
   "metadata": {},
   "source": [
    "## Objective (Loss) Function"
   ]
  },
  {
   "cell_type": "code",
   "execution_count": 9,
   "id": "aa04e526",
   "metadata": {},
   "outputs": [],
   "source": [
    "loss_fn = tf.keras.losses.SparseCategoricalCrossentropy(from_logits=True)\n"
   ]
  },
  {
   "cell_type": "code",
   "execution_count": 10,
   "id": "ba56748c",
   "metadata": {},
   "outputs": [
    {
     "data": {
      "text/plain": [
       "2.6740932"
      ]
     },
     "execution_count": 10,
     "metadata": {},
     "output_type": "execute_result"
    }
   ],
   "source": [
    "loss_fn(y_train[:1], predictions).numpy()"
   ]
  },
  {
   "cell_type": "markdown",
   "id": "cb3865f2",
   "metadata": {},
   "source": [
    "## Optimization"
   ]
  },
  {
   "cell_type": "code",
   "execution_count": 11,
   "id": "c7087b90",
   "metadata": {},
   "outputs": [],
   "source": [
    "model.compile(optimizer='adam',\n",
    "              loss=loss_fn,\n",
    "              metrics=['accuracy'])"
   ]
  },
  {
   "cell_type": "markdown",
   "id": "7e860a48",
   "metadata": {},
   "source": [
    "## Training"
   ]
  },
  {
   "cell_type": "code",
   "execution_count": 12,
   "id": "e1a2c556",
   "metadata": {},
   "outputs": [
    {
     "name": "stdout",
     "output_type": "stream",
     "text": [
      "Epoch 1/5\n",
      "1875/1875 [==============================] - 7s 3ms/step - loss: 0.2582 - accuracy: 0.9262\n",
      "Epoch 2/5\n",
      "1875/1875 [==============================] - 7s 4ms/step - loss: 0.1142 - accuracy: 0.9663\n",
      "Epoch 3/5\n",
      "1875/1875 [==============================] - 6s 3ms/step - loss: 0.0777 - accuracy: 0.9767\n",
      "Epoch 4/5\n",
      "1875/1875 [==============================] - 6s 3ms/step - loss: 0.0581 - accuracy: 0.9816\n",
      "Epoch 5/5\n",
      "1875/1875 [==============================] - 5s 3ms/step - loss: 0.0445 - accuracy: 0.9862\n"
     ]
    },
    {
     "data": {
      "text/plain": [
       "<keras.callbacks.History at 0x7fb87ddee6d0>"
      ]
     },
     "execution_count": 12,
     "metadata": {},
     "output_type": "execute_result"
    }
   ],
   "source": [
    "model.fit(x_train, y_train, epochs=5)"
   ]
  },
  {
   "cell_type": "markdown",
   "id": "9216c3cd",
   "metadata": {},
   "source": [
    "## Testing"
   ]
  },
  {
   "cell_type": "code",
   "execution_count": 13,
   "id": "a7a4505d",
   "metadata": {},
   "outputs": [
    {
     "name": "stdout",
     "output_type": "stream",
     "text": [
      "313/313 - 1s - loss: 0.0788 - accuracy: 0.9760 - 800ms/epoch - 3ms/step\n"
     ]
    },
    {
     "data": {
      "text/plain": [
       "[0.07875847816467285, 0.9760000109672546]"
      ]
     },
     "execution_count": 13,
     "metadata": {},
     "output_type": "execute_result"
    }
   ],
   "source": [
    "model.evaluate(x_test,  y_test, verbose=2)"
   ]
  },
  {
   "cell_type": "code",
   "execution_count": 14,
   "id": "6c753090",
   "metadata": {},
   "outputs": [],
   "source": [
    "probability_model = tf.keras.Sequential([\n",
    "  model,\n",
    "  tf.keras.layers.Softmax()\n",
    "])"
   ]
  },
  {
   "cell_type": "code",
   "execution_count": 15,
   "id": "72d8a179",
   "metadata": {},
   "outputs": [
    {
     "data": {
      "text/plain": [
       "<tf.Tensor: shape=(10, 10), dtype=float32, numpy=\n",
       "array([[6.77614409e-08, 6.84695634e-10, 1.72135278e-05, 6.09665221e-05,\n",
       "        1.04123953e-10, 2.81672641e-09, 4.59526384e-12, 9.99920130e-01,\n",
       "        3.27231362e-08, 1.61853552e-06],\n",
       "       [6.14129476e-07, 1.46425073e-05, 9.99940395e-01, 4.31527042e-05,\n",
       "        4.41032819e-15, 3.72942068e-08, 2.50276901e-08, 7.17314142e-12,\n",
       "        1.21284017e-06, 4.61381286e-14],\n",
       "       [4.17611687e-07, 9.98131812e-01, 1.82450720e-04, 6.45234977e-05,\n",
       "        2.23491705e-04, 9.04017361e-06, 2.46271957e-04, 7.61909352e-04,\n",
       "        3.78791738e-04, 1.24699363e-06],\n",
       "       [9.99995351e-01, 8.75952696e-12, 2.53178723e-06, 4.34676206e-09,\n",
       "        3.04150427e-10, 3.08264703e-08, 8.28519688e-08, 1.86090188e-06,\n",
       "        5.14373995e-11, 1.09055684e-07],\n",
       "       [8.28487032e-07, 1.34193726e-10, 8.00864257e-07, 3.83585519e-09,\n",
       "        9.98035848e-01, 1.58577169e-08, 5.05788830e-06, 8.70506756e-06,\n",
       "        3.88294659e-08, 1.94880553e-03],\n",
       "       [2.17342873e-08, 9.99084949e-01, 1.66189784e-06, 6.69723113e-06,\n",
       "        1.96521451e-05, 1.00877759e-08, 1.26619113e-06, 8.77831131e-04,\n",
       "        7.69489270e-06, 1.31289198e-07],\n",
       "       [5.59351898e-10, 1.65248275e-06, 1.18335277e-06, 4.70914210e-06,\n",
       "        9.98645484e-01, 1.18725484e-06, 1.00310523e-07, 1.10455403e-05,\n",
       "        1.19491143e-03, 1.39791053e-04],\n",
       "       [3.30761285e-09, 2.59633521e-06, 7.46582300e-05, 6.02705078e-03,\n",
       "        1.42373974e-04, 1.02938597e-04, 3.63722746e-10, 1.65576988e-04,\n",
       "        5.13818236e-07, 9.93484318e-01],\n",
       "       [5.37628466e-08, 2.23989886e-07, 3.31182755e-03, 1.50803567e-06,\n",
       "        5.55791892e-04, 9.26060200e-01, 6.95899501e-02, 1.16832695e-07,\n",
       "        4.70836676e-04, 9.43915711e-06],\n",
       "       [4.00974809e-10, 8.57150548e-12, 1.88625851e-10, 1.89532875e-06,\n",
       "        6.68392517e-04, 1.32778037e-08, 4.39408243e-09, 1.47953091e-04,\n",
       "        1.61963326e-05, 9.99165535e-01]], dtype=float32)>"
      ]
     },
     "execution_count": 15,
     "metadata": {},
     "output_type": "execute_result"
    }
   ],
   "source": [
    "probs = probability_model(x_test[:10])\n",
    "probs"
   ]
  },
  {
   "cell_type": "code",
   "execution_count": 16,
   "id": "b1190da3",
   "metadata": {},
   "outputs": [
    {
     "data": {
      "image/png": "[encoded data removed]",
      "text/plain": [
       "<Figure size 640x480 with 10 Axes>"
      ]
     },
     "metadata": {},
     "output_type": "display_data"
    }
   ],
   "source": [
    "fig = plt.figure()\n",
    "plt.tight_layout()\n",
    "for i in range(10):\n",
    "    plt.subplot(2,5,i+1)\n",
    "    plt.imshow(x_test[i], cmap='gray', interpolation='none')\n",
    "    plt.title(\"{:.2f}\".format(max(probs[i])))\n",
    "    plt.axis('off')"
   ]
  }
 ],
 "metadata": {
  "kernelspec": {
   "display_name": "Python 3 (ipykernel)",
   "language": "python",
   "name": "python3"
  },
  "language_info": {
   "codemirror_mode": {
    "name": "ipython",
    "version": 3
   },
   "file_extension": ".py",
   "mimetype": "text/x-python",
   "name": "python",
   "nbconvert_exporter": "python",
   "pygments_lexer": "ipython3",
   "version": "3.9.13"
  },
  "toc": {
   "base_numbering": 1,
   "nav_menu": {},
   "number_sections": true,
   "sideBar": true,
   "skip_h1_title": false,
   "title_cell": "Table of Contents",
   "title_sidebar": "Contents",
   "toc_cell": false,
   "toc_position": {},
   "toc_section_display": true,
   "toc_window_display": true
  }
 },
 "nbformat": 4,
 "nbformat_minor": 5
}
