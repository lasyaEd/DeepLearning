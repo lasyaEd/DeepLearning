{
  "cells": [
    {
      "cell_type": "markdown",
      "id": "674663da-fa93-4f8d-97cc-1684979eb5dc",
      "metadata": {
        "id": "674663da-fa93-4f8d-97cc-1684979eb5dc"
      },
      "source": [
        "# Convolutional Neural Networks\n",
        "\n",
        "###  **DSBA 6165: AI & Deep Learning**\n"
      ]
    },
    {
      "cell_type": "markdown",
      "id": "49fcd39b",
      "metadata": {
        "id": "49fcd39b"
      },
      "source": [
        "## Goal\n",
        "\n",
        "The goal of this lab activity is practicing to build a convolutional neural network class. For this, we break down each component of a CNN before building the complete network. We use CIFAR-10 dataset that contains 10 classes of images."
      ]
    },
    {
      "cell_type": "markdown",
      "id": "60ce8e1e",
      "metadata": {
        "id": "60ce8e1e"
      },
      "source": [
        "Let us first import the libraries we are going to use. TensorFlow for DL models, matplotlib for plotting data/results, numpy and pandas for data handling."
      ]
    },
    {
      "cell_type": "code",
      "execution_count": 1,
      "id": "464537b0",
      "metadata": {
        "ExecuteTime": {
          "end_time": "2023-02-07T00:13:21.317519Z",
          "start_time": "2023-02-07T00:13:18.279610Z"
        },
        "colab": {
          "base_uri": "https://localhost:8080/"
        },
        "id": "464537b0",
        "outputId": "696bf6e2-86a7-4a23-f9d0-6193163d14ca",
        "scrolled": true
      },
      "outputs": [
        {
          "output_type": "stream",
          "name": "stdout",
          "text": [
            "TF version: 2.18.0\n"
          ]
        }
      ],
      "source": [
        "import tensorflow as tf\n",
        "from tensorflow import keras\n",
        "from tensorflow.keras import layers, models, datasets\n",
        "print(\"TF version:\", tf.__version__)\n",
        "\n",
        "import matplotlib.pyplot as plt\n",
        "import numpy as np\n",
        "import pandas as pd\n",
        "import seaborn as sns\n",
        "\n",
        "%matplotlib inline"
      ]
    },
    {
      "cell_type": "markdown",
      "id": "5a123bf9",
      "metadata": {
        "id": "5a123bf9"
      },
      "source": [
        "## Loading Data"
      ]
    },
    {
      "cell_type": "markdown",
      "id": "87c57b0e",
      "metadata": {
        "id": "87c57b0e"
      },
      "source": [
        "### CIFAR-10\n",
        "\n",
        "\n",
        "[The CIFAR-10 dataset](https://www.cs.toronto.edu/~kriz/cifar.html) consists of 60000 32x32 colour images in 10 classes, with 6000 images per class. There are 50000 training images and 10000 test images.\n",
        "\n",
        "The dataset is divided into five training batches and one test batch, each with 10000 images. The test batch contains exactly 1000 randomly-selected images from each class. The training batches contain the remaining images in random order, but some training batches may contain more images from one class than another. Between them, the training batches contain exactly 5000 images from each class.\n",
        "\n",
        "Here are the classes in the dataset, as well as 10 random images from each:\n",
        "<table>\n",
        "    <tr>\n",
        "        <td class=\"cifar-class-name\">airplane</td>\n",
        "        <td><img src=\"https://www.cs.toronto.edu/~kriz/cifar-10-sample/airplane1.png\" class=\"cifar-sample\" /></td>\n",
        "        <td><img src=\"https://www.cs.toronto.edu/~kriz/cifar-10-sample/airplane2.png\" class=\"cifar-sample\" /></td>\n",
        "        <td><img src=\"https://www.cs.toronto.edu/~kriz/cifar-10-sample/airplane3.png\" class=\"cifar-sample\" /></td>\n",
        "        <td><img src=\"https://www.cs.toronto.edu/~kriz/cifar-10-sample/airplane4.png\" class=\"cifar-sample\" /></td>\n",
        "        <td><img src=\"https://www.cs.toronto.edu/~kriz/cifar-10-sample/airplane5.png\" class=\"cifar-sample\" /></td>\n",
        "        <td><img src=\"https://www.cs.toronto.edu/~kriz/cifar-10-sample/airplane6.png\" class=\"cifar-sample\" /></td>\n",
        "        <td><img src=\"https://www.cs.toronto.edu/~kriz/cifar-10-sample/airplane7.png\" class=\"cifar-sample\" /></td>\n",
        "        <td><img src=\"https://www.cs.toronto.edu/~kriz/cifar-10-sample/airplane8.png\" class=\"cifar-sample\" /></td>\n",
        "        <td><img src=\"https://www.cs.toronto.edu/~kriz/cifar-10-sample/airplane9.png\" class=\"cifar-sample\" /></td>\n",
        "        <td><img src=\"https://www.cs.toronto.edu/~kriz/cifar-10-sample/airplane10.png\" class=\"cifar-sample\" /></td>\n",
        "    </tr>\n",
        "    <tr>\n",
        "        <td class=\"cifar-class-name\">automobile</td>\n",
        "        <td><img src=\"https://www.cs.toronto.edu/~kriz/cifar-10-sample/automobile1.png\" class=\"cifar-sample\" /></td>\n",
        "        <td><img src=\"https://www.cs.toronto.edu/~kriz/cifar-10-sample/automobile2.png\" class=\"cifar-sample\" /></td>\n",
        "        <td><img src=\"https://www.cs.toronto.edu/~kriz/cifar-10-sample/automobile3.png\" class=\"cifar-sample\" /></td>\n",
        "        <td><img src=\"https://www.cs.toronto.edu/~kriz/cifar-10-sample/automobile4.png\" class=\"cifar-sample\" /></td>\n",
        "        <td><img src=\"https://www.cs.toronto.edu/~kriz/cifar-10-sample/automobile5.png\" class=\"cifar-sample\" /></td>\n",
        "        <td><img src=\"https://www.cs.toronto.edu/~kriz/cifar-10-sample/automobile6.png\" class=\"cifar-sample\" /></td>\n",
        "        <td><img src=\"https://www.cs.toronto.edu/~kriz/cifar-10-sample/automobile7.png\" class=\"cifar-sample\" /></td>\n",
        "        <td><img src=\"https://www.cs.toronto.edu/~kriz/cifar-10-sample/automobile8.png\" class=\"cifar-sample\" /></td>\n",
        "        <td><img src=\"https://www.cs.toronto.edu/~kriz/cifar-10-sample/automobile9.png\" class=\"cifar-sample\" /></td>\n",
        "        <td><img src=\"https://www.cs.toronto.edu/~kriz/cifar-10-sample/automobile10.png\" class=\"cifar-sample\" /></td>\n",
        "    </tr>\n",
        "    <tr>\n",
        "        <td class=\"cifar-class-name\">bird</td>\n",
        "        <td><img src=\"https://www.cs.toronto.edu/~kriz/cifar-10-sample/bird1.png\" class=\"cifar-sample\" /></td>\n",
        "        <td><img src=\"https://www.cs.toronto.edu/~kriz/cifar-10-sample/bird2.png\" class=\"cifar-sample\" /></td>\n",
        "        <td><img src=\"https://www.cs.toronto.edu/~kriz/cifar-10-sample/bird3.png\" class=\"cifar-sample\" /></td>\n",
        "        <td><img src=\"https://www.cs.toronto.edu/~kriz/cifar-10-sample/bird4.png\" class=\"cifar-sample\" /></td>\n",
        "        <td><img src=\"https://www.cs.toronto.edu/~kriz/cifar-10-sample/bird5.png\" class=\"cifar-sample\" /></td>\n",
        "        <td><img src=\"https://www.cs.toronto.edu/~kriz/cifar-10-sample/bird6.png\" class=\"cifar-sample\" /></td>\n",
        "        <td><img src=\"https://www.cs.toronto.edu/~kriz/cifar-10-sample/bird7.png\" class=\"cifar-sample\" /></td>\n",
        "        <td><img src=\"https://www.cs.toronto.edu/~kriz/cifar-10-sample/bird8.png\" class=\"cifar-sample\" /></td>\n",
        "        <td><img src=\"https://www.cs.toronto.edu/~kriz/cifar-10-sample/bird9.png\" class=\"cifar-sample\" /></td>\n",
        "        <td><img src=\"https://www.cs.toronto.edu/~kriz/cifar-10-sample/bird10.png\" class=\"cifar-sample\" /></td>\n",
        "    </tr>\n",
        "    <tr>\n",
        "        <td class=\"cifar-class-name\">cat</td>\n",
        "        <td><img src=\"https://www.cs.toronto.edu/~kriz/cifar-10-sample/cat1.png\" class=\"cifar-sample\" /></td>\n",
        "        <td><img src=\"https://www.cs.toronto.edu/~kriz/cifar-10-sample/cat2.png\" class=\"cifar-sample\" /></td>\n",
        "        <td><img src=\"https://www.cs.toronto.edu/~kriz/cifar-10-sample/cat3.png\" class=\"cifar-sample\" /></td>\n",
        "        <td><img src=\"https://www.cs.toronto.edu/~kriz/cifar-10-sample/cat4.png\" class=\"cifar-sample\" /></td>\n",
        "        <td><img src=\"https://www.cs.toronto.edu/~kriz/cifar-10-sample/cat5.png\" class=\"cifar-sample\" /></td>\n",
        "        <td><img src=\"https://www.cs.toronto.edu/~kriz/cifar-10-sample/cat6.png\" class=\"cifar-sample\" /></td>\n",
        "        <td><img src=\"https://www.cs.toronto.edu/~kriz/cifar-10-sample/cat7.png\" class=\"cifar-sample\" /></td>\n",
        "        <td><img src=\"https://www.cs.toronto.edu/~kriz/cifar-10-sample/cat8.png\" class=\"cifar-sample\" /></td>\n",
        "        <td><img src=\"https://www.cs.toronto.edu/~kriz/cifar-10-sample/cat9.png\" class=\"cifar-sample\" /></td>\n",
        "        <td><img src=\"https://www.cs.toronto.edu/~kriz/cifar-10-sample/cat10.png\" class=\"cifar-sample\" /></td>\n",
        "    </tr>\n",
        "    <tr>\n",
        "        <td class=\"cifar-class-name\">deer</td>\n",
        "        <td><img src=\"https://www.cs.toronto.edu/~kriz/cifar-10-sample/deer1.png\" class=\"cifar-sample\" /></td>\n",
        "        <td><img src=\"https://www.cs.toronto.edu/~kriz/cifar-10-sample/deer2.png\" class=\"cifar-sample\" /></td>\n",
        "        <td><img src=\"https://www.cs.toronto.edu/~kriz/cifar-10-sample/deer3.png\" class=\"cifar-sample\" /></td>\n",
        "        <td><img src=\"https://www.cs.toronto.edu/~kriz/cifar-10-sample/deer4.png\" class=\"cifar-sample\" /></td>\n",
        "        <td><img src=\"https://www.cs.toronto.edu/~kriz/cifar-10-sample/deer5.png\" class=\"cifar-sample\" /></td>\n",
        "        <td><img src=\"https://www.cs.toronto.edu/~kriz/cifar-10-sample/deer6.png\" class=\"cifar-sample\" /></td>\n",
        "        <td><img src=\"https://www.cs.toronto.edu/~kriz/cifar-10-sample/deer7.png\" class=\"cifar-sample\" /></td>\n",
        "        <td><img src=\"https://www.cs.toronto.edu/~kriz/cifar-10-sample/deer8.png\" class=\"cifar-sample\" /></td>\n",
        "        <td><img src=\"https://www.cs.toronto.edu/~kriz/cifar-10-sample/deer9.png\" class=\"cifar-sample\" /></td>\n",
        "        <td><img src=\"https://www.cs.toronto.edu/~kriz/cifar-10-sample/deer10.png\" class=\"cifar-sample\" /></td>\n",
        "    </tr>\n",
        "    <tr>\n",
        "        <td class=\"cifar-class-name\">dog</td>\n",
        "        <td><img src=\"https://www.cs.toronto.edu/~kriz/cifar-10-sample/dog1.png\" class=\"cifar-sample\" /></td>\n",
        "        <td><img src=\"https://www.cs.toronto.edu/~kriz/cifar-10-sample/dog2.png\" class=\"cifar-sample\" /></td>\n",
        "        <td><img src=\"https://www.cs.toronto.edu/~kriz/cifar-10-sample/dog3.png\" class=\"cifar-sample\" /></td>\n",
        "        <td><img src=\"https://www.cs.toronto.edu/~kriz/cifar-10-sample/dog4.png\" class=\"cifar-sample\" /></td>\n",
        "        <td><img src=\"https://www.cs.toronto.edu/~kriz/cifar-10-sample/dog5.png\" class=\"cifar-sample\" /></td>\n",
        "        <td><img src=\"https://www.cs.toronto.edu/~kriz/cifar-10-sample/dog6.png\" class=\"cifar-sample\" /></td>\n",
        "        <td><img src=\"https://www.cs.toronto.edu/~kriz/cifar-10-sample/dog7.png\" class=\"cifar-sample\" /></td>\n",
        "        <td><img src=\"https://www.cs.toronto.edu/~kriz/cifar-10-sample/dog8.png\" class=\"cifar-sample\" /></td>\n",
        "        <td><img src=\"https://www.cs.toronto.edu/~kriz/cifar-10-sample/dog9.png\" class=\"cifar-sample\" /></td>\n",
        "        <td><img src=\"https://www.cs.toronto.edu/~kriz/cifar-10-sample/dog10.png\" class=\"cifar-sample\" /></td>\n",
        "    </tr>\n",
        "    <tr>\n",
        "        <td class=\"cifar-class-name\">frog</td>\n",
        "        <td><img src=\"https://www.cs.toronto.edu/~kriz/cifar-10-sample/frog1.png\" class=\"cifar-sample\" /></td>\n",
        "        <td><img src=\"https://www.cs.toronto.edu/~kriz/cifar-10-sample/frog2.png\" class=\"cifar-sample\" /></td>\n",
        "        <td><img src=\"https://www.cs.toronto.edu/~kriz/cifar-10-sample/frog3.png\" class=\"cifar-sample\" /></td>\n",
        "        <td><img src=\"https://www.cs.toronto.edu/~kriz/cifar-10-sample/frog4.png\" class=\"cifar-sample\" /></td>\n",
        "        <td><img src=\"https://www.cs.toronto.edu/~kriz/cifar-10-sample/frog5.png\" class=\"cifar-sample\" /></td>\n",
        "        <td><img src=\"https://www.cs.toronto.edu/~kriz/cifar-10-sample/frog6.png\" class=\"cifar-sample\" /></td>\n",
        "        <td><img src=\"https://www.cs.toronto.edu/~kriz/cifar-10-sample/frog7.png\" class=\"cifar-sample\" /></td>\n",
        "        <td><img src=\"https://www.cs.toronto.edu/~kriz/cifar-10-sample/frog8.png\" class=\"cifar-sample\" /></td>\n",
        "        <td><img src=\"https://www.cs.toronto.edu/~kriz/cifar-10-sample/frog9.png\" class=\"cifar-sample\" /></td>\n",
        "        <td><img src=\"https://www.cs.toronto.edu/~kriz/cifar-10-sample/frog10.png\" class=\"cifar-sample\" /></td>\n",
        "    </tr>\n",
        "    <tr>\n",
        "        <td class=\"cifar-class-name\">horse</td>\n",
        "        <td><img src=\"https://www.cs.toronto.edu/~kriz/cifar-10-sample/horse1.png\" class=\"cifar-sample\" /></td>\n",
        "        <td><img src=\"https://www.cs.toronto.edu/~kriz/cifar-10-sample/horse2.png\" class=\"cifar-sample\" /></td>\n",
        "        <td><img src=\"https://www.cs.toronto.edu/~kriz/cifar-10-sample/horse3.png\" class=\"cifar-sample\" /></td>\n",
        "        <td><img src=\"https://www.cs.toronto.edu/~kriz/cifar-10-sample/horse4.png\" class=\"cifar-sample\" /></td>\n",
        "        <td><img src=\"https://www.cs.toronto.edu/~kriz/cifar-10-sample/horse5.png\" class=\"cifar-sample\" /></td>\n",
        "        <td><img src=\"https://www.cs.toronto.edu/~kriz/cifar-10-sample/horse6.png\" class=\"cifar-sample\" /></td>\n",
        "        <td><img src=\"https://www.cs.toronto.edu/~kriz/cifar-10-sample/horse7.png\" class=\"cifar-sample\" /></td>\n",
        "        <td><img src=\"https://www.cs.toronto.edu/~kriz/cifar-10-sample/horse8.png\" class=\"cifar-sample\" /></td>\n",
        "        <td><img src=\"https://www.cs.toronto.edu/~kriz/cifar-10-sample/horse9.png\" class=\"cifar-sample\" /></td>\n",
        "        <td><img src=\"https://www.cs.toronto.edu/~kriz/cifar-10-sample/horse10.png\" class=\"cifar-sample\" /></td>\n",
        "    </tr>\n",
        "    <tr>\n",
        "        <td class=\"cifar-class-name\">ship</td>\n",
        "        <td><img src=\"https://www.cs.toronto.edu/~kriz/cifar-10-sample/ship1.png\" class=\"cifar-sample\" /></td>\n",
        "        <td><img src=\"https://www.cs.toronto.edu/~kriz/cifar-10-sample/ship2.png\" class=\"cifar-sample\" /></td>\n",
        "        <td><img src=\"https://www.cs.toronto.edu/~kriz/cifar-10-sample/ship3.png\" class=\"cifar-sample\" /></td>\n",
        "        <td><img src=\"https://www.cs.toronto.edu/~kriz/cifar-10-sample/ship4.png\" class=\"cifar-sample\" /></td>\n",
        "        <td><img src=\"https://www.cs.toronto.edu/~kriz/cifar-10-sample/ship5.png\" class=\"cifar-sample\" /></td>\n",
        "        <td><img src=\"https://www.cs.toronto.edu/~kriz/cifar-10-sample/ship6.png\" class=\"cifar-sample\" /></td>\n",
        "        <td><img src=\"https://www.cs.toronto.edu/~kriz/cifar-10-sample/ship7.png\" class=\"cifar-sample\" /></td>\n",
        "        <td><img src=\"https://www.cs.toronto.edu/~kriz/cifar-10-sample/ship8.png\" class=\"cifar-sample\" /></td>\n",
        "        <td><img src=\"https://www.cs.toronto.edu/~kriz/cifar-10-sample/ship9.png\" class=\"cifar-sample\" /></td>\n",
        "        <td><img src=\"https://www.cs.toronto.edu/~kriz/cifar-10-sample/ship10.png\" class=\"cifar-sample\" /></td>\n",
        "    </tr>\n",
        "    <tr>\n",
        "        <td class=\"cifar-class-name\">truck</td>\n",
        "        <td><img src=\"https://www.cs.toronto.edu/~kriz/cifar-10-sample/truck1.png\" class=\"cifar-sample\" /></td>\n",
        "        <td><img src=\"https://www.cs.toronto.edu/~kriz/cifar-10-sample/truck2.png\" class=\"cifar-sample\" /></td>\n",
        "        <td><img src=\"https://www.cs.toronto.edu/~kriz/cifar-10-sample/truck3.png\" class=\"cifar-sample\" /></td>\n",
        "        <td><img src=\"https://www.cs.toronto.edu/~kriz/cifar-10-sample/truck4.png\" class=\"cifar-sample\" /></td>\n",
        "        <td><img src=\"https://www.cs.toronto.edu/~kriz/cifar-10-sample/truck5.png\" class=\"cifar-sample\" /></td>\n",
        "        <td><img src=\"https://www.cs.toronto.edu/~kriz/cifar-10-sample/truck6.png\" class=\"cifar-sample\" /></td>\n",
        "        <td><img src=\"https://www.cs.toronto.edu/~kriz/cifar-10-sample/truck7.png\" class=\"cifar-sample\" /></td>\n",
        "        <td><img src=\"https://www.cs.toronto.edu/~kriz/cifar-10-sample/truck8.png\" class=\"cifar-sample\" /></td>\n",
        "        <td><img src=\"https://www.cs.toronto.edu/~kriz/cifar-10-sample/truck9.png\" class=\"cifar-sample\" /></td>\n",
        "        <td><img src=\"https://www.cs.toronto.edu/~kriz/cifar-10-sample/truck10.png\" class=\"cifar-sample\" /></td>\n",
        "    </tr>\n",
        "</table>\n",
        "\n",
        "The classes are completely mutually exclusive. There is no overlap between automobiles and trucks. \"Automobile\" includes sedans, SUVs, things of that sort. \"Truck\" includes only big trucks. Neither includes pickup trucks.\n",
        "\n",
        "**Reference**\n",
        "\n",
        "This tech report (Chapter 3) describes the dataset and the methodology followed when collecting it in much greater detail. Please cite it if you intend to use this dataset.\n",
        "Learning Multiple Layers of Features from Tiny Images, Alex Krizhevsky, 2009."
      ]
    },
    {
      "cell_type": "markdown",
      "id": "3a22dcc4",
      "metadata": {
        "id": "3a22dcc4"
      },
      "source": [
        "### TODO1\n",
        "1.Load the `datasets.cifar10` dataset using the `load_data()` method. Unpack the data into two pairs of arrays (x train,y train) for the training set and (x test,y test) for the test set."
      ]
    },
    {
      "cell_type": "code",
      "execution_count": 2,
      "id": "d932f658",
      "metadata": {
        "ExecuteTime": {
          "end_time": "2023-02-07T00:13:21.911232Z",
          "start_time": "2023-02-07T00:13:21.318770Z"
        },
        "id": "d932f658",
        "colab": {
          "base_uri": "https://localhost:8080/"
        },
        "outputId": "063aa3cf-e10d-46d1-cee1-8c3ae458934b"
      },
      "outputs": [
        {
          "output_type": "stream",
          "name": "stdout",
          "text": [
            "Downloading data from https://www.cs.toronto.edu/~kriz/cifar-10-python.tar.gz\n",
            "\u001b[1m170498071/170498071\u001b[0m \u001b[32m━━━━━━━━━━━━━━━━━━━━\u001b[0m\u001b[37m\u001b[0m \u001b[1m5s\u001b[0m 0us/step\n"
          ]
        }
      ],
      "source": [
        "# TODO: load data`\n",
        "(x_train, y_train), (x_test, y_test) = datasets.cifar10.load_data()\n"
      ]
    },
    {
      "cell_type": "code",
      "execution_count": 3,
      "id": "dd37f71f",
      "metadata": {
        "ExecuteTime": {
          "end_time": "2023-02-07T00:13:21.914481Z",
          "start_time": "2023-02-07T00:13:21.912186Z"
        },
        "id": "dd37f71f"
      },
      "outputs": [],
      "source": [
        "s_labels = ['airplane', 'automobile', 'bird', 'cat', 'deer',\n",
        "               'dog', 'frog', 'horse', 'ship', 'truck']"
      ]
    },
    {
      "cell_type": "markdown",
      "id": "k43gpgATipCx",
      "metadata": {
        "id": "k43gpgATipCx"
      },
      "source": [
        "### TODO 1.1\n",
        "1. Check shapes of x_train , x_test and y_test\n",
        "  * Hint:To get the dimensions of data, we use the `shape` method in Python"
      ]
    },
    {
      "cell_type": "code",
      "execution_count": 4,
      "id": "9c9adc82",
      "metadata": {
        "ExecuteTime": {
          "end_time": "2023-02-07T00:13:21.920131Z",
          "start_time": "2023-02-07T00:13:21.916038Z"
        },
        "colab": {
          "base_uri": "https://localhost:8080/"
        },
        "id": "9c9adc82",
        "outputId": "bd4b3394-78a5-49c3-c244-8ec9320bba07"
      },
      "outputs": [
        {
          "output_type": "execute_result",
          "data": {
            "text/plain": [
              "((50000, 32, 32, 3), (50000, 1), (10000, 32, 32, 3), (10000, 1))"
            ]
          },
          "metadata": {},
          "execution_count": 4
        }
      ],
      "source": [
        "#TODO:\n",
        "x_train.shape,y_train.shape, x_test.shape, y_test.shape"
      ]
    },
    {
      "cell_type": "code",
      "execution_count": 5,
      "id": "73f9aa04",
      "metadata": {
        "ExecuteTime": {
          "end_time": "2023-02-07T00:13:21.926449Z",
          "start_time": "2023-02-07T00:13:21.921341Z"
        },
        "colab": {
          "base_uri": "https://localhost:8080/"
        },
        "id": "73f9aa04",
        "outputId": "92afb0a9-b6a7-432d-c1cd-5978c63e2263"
      },
      "outputs": [
        {
          "output_type": "execute_result",
          "data": {
            "text/plain": [
              "array([[[[ 59,  62,  63],\n",
              "         [ 43,  46,  45],\n",
              "         [ 50,  48,  43],\n",
              "         ...,\n",
              "         [158, 132, 108],\n",
              "         [152, 125, 102],\n",
              "         [148, 124, 103]],\n",
              "\n",
              "        [[ 16,  20,  20],\n",
              "         [  0,   0,   0],\n",
              "         [ 18,   8,   0],\n",
              "         ...,\n",
              "         [123,  88,  55],\n",
              "         [119,  83,  50],\n",
              "         [122,  87,  57]],\n",
              "\n",
              "        [[ 25,  24,  21],\n",
              "         [ 16,   7,   0],\n",
              "         [ 49,  27,   8],\n",
              "         ...,\n",
              "         [118,  84,  50],\n",
              "         [120,  84,  50],\n",
              "         [109,  73,  42]],\n",
              "\n",
              "        ...,\n",
              "\n",
              "        [[208, 170,  96],\n",
              "         [201, 153,  34],\n",
              "         [198, 161,  26],\n",
              "         ...,\n",
              "         [160, 133,  70],\n",
              "         [ 56,  31,   7],\n",
              "         [ 53,  34,  20]],\n",
              "\n",
              "        [[180, 139,  96],\n",
              "         [173, 123,  42],\n",
              "         [186, 144,  30],\n",
              "         ...,\n",
              "         [184, 148,  94],\n",
              "         [ 97,  62,  34],\n",
              "         [ 83,  53,  34]],\n",
              "\n",
              "        [[177, 144, 116],\n",
              "         [168, 129,  94],\n",
              "         [179, 142,  87],\n",
              "         ...,\n",
              "         [216, 184, 140],\n",
              "         [151, 118,  84],\n",
              "         [123,  92,  72]]],\n",
              "\n",
              "\n",
              "       [[[154, 177, 187],\n",
              "         [126, 137, 136],\n",
              "         [105, 104,  95],\n",
              "         ...,\n",
              "         [ 91,  95,  71],\n",
              "         [ 87,  90,  71],\n",
              "         [ 79,  81,  70]],\n",
              "\n",
              "        [[140, 160, 169],\n",
              "         [145, 153, 154],\n",
              "         [125, 125, 118],\n",
              "         ...,\n",
              "         [ 96,  99,  78],\n",
              "         [ 77,  80,  62],\n",
              "         [ 71,  73,  61]],\n",
              "\n",
              "        [[140, 155, 164],\n",
              "         [139, 146, 149],\n",
              "         [115, 115, 112],\n",
              "         ...,\n",
              "         [ 79,  82,  64],\n",
              "         [ 68,  70,  55],\n",
              "         [ 67,  69,  55]],\n",
              "\n",
              "        ...,\n",
              "\n",
              "        [[175, 167, 166],\n",
              "         [156, 154, 160],\n",
              "         [154, 160, 170],\n",
              "         ...,\n",
              "         [ 42,  34,  36],\n",
              "         [ 61,  53,  57],\n",
              "         [ 93,  83,  91]],\n",
              "\n",
              "        [[165, 154, 128],\n",
              "         [156, 152, 130],\n",
              "         [159, 161, 142],\n",
              "         ...,\n",
              "         [103,  93,  96],\n",
              "         [123, 114, 120],\n",
              "         [131, 121, 131]],\n",
              "\n",
              "        [[163, 148, 120],\n",
              "         [158, 148, 122],\n",
              "         [163, 156, 133],\n",
              "         ...,\n",
              "         [143, 133, 139],\n",
              "         [143, 134, 142],\n",
              "         [143, 133, 144]]],\n",
              "\n",
              "\n",
              "       [[[255, 255, 255],\n",
              "         [253, 253, 253],\n",
              "         [253, 253, 253],\n",
              "         ...,\n",
              "         [253, 253, 253],\n",
              "         [253, 253, 253],\n",
              "         [253, 253, 253]],\n",
              "\n",
              "        [[255, 255, 255],\n",
              "         [255, 255, 255],\n",
              "         [255, 255, 255],\n",
              "         ...,\n",
              "         [255, 255, 255],\n",
              "         [255, 255, 255],\n",
              "         [255, 255, 255]],\n",
              "\n",
              "        [[255, 255, 255],\n",
              "         [254, 254, 254],\n",
              "         [254, 254, 254],\n",
              "         ...,\n",
              "         [254, 254, 254],\n",
              "         [254, 254, 254],\n",
              "         [254, 254, 254]],\n",
              "\n",
              "        ...,\n",
              "\n",
              "        [[113, 120, 112],\n",
              "         [111, 118, 111],\n",
              "         [105, 112, 106],\n",
              "         ...,\n",
              "         [ 72,  81,  80],\n",
              "         [ 72,  80,  79],\n",
              "         [ 72,  80,  79]],\n",
              "\n",
              "        [[111, 118, 110],\n",
              "         [104, 111, 104],\n",
              "         [ 99, 106,  98],\n",
              "         ...,\n",
              "         [ 68,  75,  73],\n",
              "         [ 70,  76,  75],\n",
              "         [ 78,  84,  82]],\n",
              "\n",
              "        [[106, 113, 105],\n",
              "         [ 99, 106,  98],\n",
              "         [ 95, 102,  94],\n",
              "         ...,\n",
              "         [ 78,  85,  83],\n",
              "         [ 79,  85,  83],\n",
              "         [ 80,  86,  84]]],\n",
              "\n",
              "\n",
              "       ...,\n",
              "\n",
              "\n",
              "       [[[ 35, 178, 235],\n",
              "         [ 40, 176, 239],\n",
              "         [ 42, 176, 241],\n",
              "         ...,\n",
              "         [ 99, 177, 219],\n",
              "         [ 79, 147, 197],\n",
              "         [ 89, 148, 189]],\n",
              "\n",
              "        [[ 57, 182, 234],\n",
              "         [ 44, 184, 250],\n",
              "         [ 50, 183, 240],\n",
              "         ...,\n",
              "         [156, 182, 200],\n",
              "         [141, 177, 206],\n",
              "         [116, 149, 175]],\n",
              "\n",
              "        [[ 98, 197, 237],\n",
              "         [ 64, 189, 252],\n",
              "         [ 69, 192, 245],\n",
              "         ...,\n",
              "         [188, 195, 206],\n",
              "         [119, 135, 147],\n",
              "         [ 61,  79,  90]],\n",
              "\n",
              "        ...,\n",
              "\n",
              "        [[ 73,  79,  77],\n",
              "         [ 53,  63,  68],\n",
              "         [ 54,  68,  80],\n",
              "         ...,\n",
              "         [ 17,  40,  64],\n",
              "         [ 21,  36,  51],\n",
              "         [ 33,  48,  49]],\n",
              "\n",
              "        [[ 61,  68,  75],\n",
              "         [ 55,  70,  86],\n",
              "         [ 57,  79, 103],\n",
              "         ...,\n",
              "         [ 24,  48,  72],\n",
              "         [ 17,  35,  53],\n",
              "         [  7,  23,  32]],\n",
              "\n",
              "        [[ 44,  56,  73],\n",
              "         [ 46,  66,  88],\n",
              "         [ 49,  77, 105],\n",
              "         ...,\n",
              "         [ 27,  52,  77],\n",
              "         [ 21,  43,  66],\n",
              "         [ 12,  31,  50]]],\n",
              "\n",
              "\n",
              "       [[[189, 211, 240],\n",
              "         [186, 208, 236],\n",
              "         [185, 207, 235],\n",
              "         ...,\n",
              "         [175, 195, 224],\n",
              "         [172, 194, 222],\n",
              "         [169, 194, 220]],\n",
              "\n",
              "        [[194, 210, 239],\n",
              "         [191, 207, 236],\n",
              "         [190, 206, 235],\n",
              "         ...,\n",
              "         [173, 192, 220],\n",
              "         [171, 191, 218],\n",
              "         [167, 190, 216]],\n",
              "\n",
              "        [[208, 219, 244],\n",
              "         [205, 216, 240],\n",
              "         [204, 215, 239],\n",
              "         ...,\n",
              "         [175, 191, 217],\n",
              "         [172, 190, 216],\n",
              "         [169, 191, 215]],\n",
              "\n",
              "        ...,\n",
              "\n",
              "        [[207, 199, 181],\n",
              "         [203, 195, 175],\n",
              "         [203, 196, 173],\n",
              "         ...,\n",
              "         [135, 132, 127],\n",
              "         [162, 158, 150],\n",
              "         [168, 163, 151]],\n",
              "\n",
              "        [[198, 190, 170],\n",
              "         [189, 181, 159],\n",
              "         [180, 172, 147],\n",
              "         ...,\n",
              "         [178, 171, 160],\n",
              "         [175, 169, 156],\n",
              "         [175, 169, 154]],\n",
              "\n",
              "        [[198, 189, 173],\n",
              "         [189, 181, 162],\n",
              "         [178, 170, 149],\n",
              "         ...,\n",
              "         [195, 184, 169],\n",
              "         [196, 189, 171],\n",
              "         [195, 190, 171]]],\n",
              "\n",
              "\n",
              "       [[[229, 229, 239],\n",
              "         [236, 237, 247],\n",
              "         [234, 236, 247],\n",
              "         ...,\n",
              "         [217, 219, 233],\n",
              "         [221, 223, 234],\n",
              "         [222, 223, 233]],\n",
              "\n",
              "        [[222, 221, 229],\n",
              "         [239, 239, 249],\n",
              "         [233, 234, 246],\n",
              "         ...,\n",
              "         [223, 223, 236],\n",
              "         [227, 228, 238],\n",
              "         [210, 211, 220]],\n",
              "\n",
              "        [[213, 206, 211],\n",
              "         [234, 232, 239],\n",
              "         [231, 233, 244],\n",
              "         ...,\n",
              "         [220, 220, 232],\n",
              "         [220, 219, 232],\n",
              "         [202, 203, 215]],\n",
              "\n",
              "        ...,\n",
              "\n",
              "        [[150, 143, 135],\n",
              "         [140, 135, 127],\n",
              "         [132, 127, 120],\n",
              "         ...,\n",
              "         [224, 222, 218],\n",
              "         [230, 228, 225],\n",
              "         [241, 241, 238]],\n",
              "\n",
              "        [[137, 132, 126],\n",
              "         [130, 127, 120],\n",
              "         [125, 121, 115],\n",
              "         ...,\n",
              "         [181, 180, 178],\n",
              "         [202, 201, 198],\n",
              "         [212, 211, 207]],\n",
              "\n",
              "        [[122, 119, 114],\n",
              "         [118, 116, 110],\n",
              "         [120, 116, 111],\n",
              "         ...,\n",
              "         [179, 177, 173],\n",
              "         [164, 164, 162],\n",
              "         [163, 163, 161]]]], dtype=uint8)"
            ]
          },
          "metadata": {},
          "execution_count": 5
        }
      ],
      "source": [
        "x_train"
      ]
    },
    {
      "cell_type": "markdown",
      "id": "4a27894c",
      "metadata": {
        "ExecuteTime": {
          "end_time": "2023-02-05T21:12:32.834012Z",
          "start_time": "2023-02-05T21:12:32.819124Z"
        },
        "id": "4a27894c"
      },
      "source": [
        "Most image pixel values range from zero to 255. We can simply transform the value range [0, 255] to [0, 1] by dividing the pixel values by 255. This is a common preprocessing step to normalize the pixel values of a image. Input range between 0 and 1 helps the network to converge faster and improve the performance. Furthermore, high-intensity pixels (200~255), brighter pixels, in the image often have strong influence on the model prediction, thus scaling it down makes training more stable.\n",
        "Let us try this first.  \n",
        "\n",
        "\n",
        "### TODO 1.2\n",
        "1. Normalize the pixel values in the x train and x test to [0,1]"
      ]
    },
    {
      "cell_type": "code",
      "execution_count": 6,
      "id": "4bf7a56c",
      "metadata": {
        "ExecuteTime": {
          "end_time": "2023-02-07T00:13:22.354194Z",
          "start_time": "2023-02-07T00:13:21.927701Z"
        },
        "colab": {
          "base_uri": "https://localhost:8080/"
        },
        "id": "4bf7a56c",
        "outputId": "ae8ebb00-5f65-468c-a586-e7e6c23b2f24"
      },
      "outputs": [
        {
          "output_type": "execute_result",
          "data": {
            "text/plain": [
              "array([[[[0.23137255, 0.24313725, 0.24705882],\n",
              "         [0.16862745, 0.18039216, 0.17647059],\n",
              "         [0.19607843, 0.18823529, 0.16862745],\n",
              "         ...,\n",
              "         [0.61960784, 0.51764706, 0.42352941],\n",
              "         [0.59607843, 0.49019608, 0.4       ],\n",
              "         [0.58039216, 0.48627451, 0.40392157]],\n",
              "\n",
              "        [[0.0627451 , 0.07843137, 0.07843137],\n",
              "         [0.        , 0.        , 0.        ],\n",
              "         [0.07058824, 0.03137255, 0.        ],\n",
              "         ...,\n",
              "         [0.48235294, 0.34509804, 0.21568627],\n",
              "         [0.46666667, 0.3254902 , 0.19607843],\n",
              "         [0.47843137, 0.34117647, 0.22352941]],\n",
              "\n",
              "        [[0.09803922, 0.09411765, 0.08235294],\n",
              "         [0.0627451 , 0.02745098, 0.        ],\n",
              "         [0.19215686, 0.10588235, 0.03137255],\n",
              "         ...,\n",
              "         [0.4627451 , 0.32941176, 0.19607843],\n",
              "         [0.47058824, 0.32941176, 0.19607843],\n",
              "         [0.42745098, 0.28627451, 0.16470588]],\n",
              "\n",
              "        ...,\n",
              "\n",
              "        [[0.81568627, 0.66666667, 0.37647059],\n",
              "         [0.78823529, 0.6       , 0.13333333],\n",
              "         [0.77647059, 0.63137255, 0.10196078],\n",
              "         ...,\n",
              "         [0.62745098, 0.52156863, 0.2745098 ],\n",
              "         [0.21960784, 0.12156863, 0.02745098],\n",
              "         [0.20784314, 0.13333333, 0.07843137]],\n",
              "\n",
              "        [[0.70588235, 0.54509804, 0.37647059],\n",
              "         [0.67843137, 0.48235294, 0.16470588],\n",
              "         [0.72941176, 0.56470588, 0.11764706],\n",
              "         ...,\n",
              "         [0.72156863, 0.58039216, 0.36862745],\n",
              "         [0.38039216, 0.24313725, 0.13333333],\n",
              "         [0.3254902 , 0.20784314, 0.13333333]],\n",
              "\n",
              "        [[0.69411765, 0.56470588, 0.45490196],\n",
              "         [0.65882353, 0.50588235, 0.36862745],\n",
              "         [0.70196078, 0.55686275, 0.34117647],\n",
              "         ...,\n",
              "         [0.84705882, 0.72156863, 0.54901961],\n",
              "         [0.59215686, 0.4627451 , 0.32941176],\n",
              "         [0.48235294, 0.36078431, 0.28235294]]],\n",
              "\n",
              "\n",
              "       [[[0.60392157, 0.69411765, 0.73333333],\n",
              "         [0.49411765, 0.5372549 , 0.53333333],\n",
              "         [0.41176471, 0.40784314, 0.37254902],\n",
              "         ...,\n",
              "         [0.35686275, 0.37254902, 0.27843137],\n",
              "         [0.34117647, 0.35294118, 0.27843137],\n",
              "         [0.30980392, 0.31764706, 0.2745098 ]],\n",
              "\n",
              "        [[0.54901961, 0.62745098, 0.6627451 ],\n",
              "         [0.56862745, 0.6       , 0.60392157],\n",
              "         [0.49019608, 0.49019608, 0.4627451 ],\n",
              "         ...,\n",
              "         [0.37647059, 0.38823529, 0.30588235],\n",
              "         [0.30196078, 0.31372549, 0.24313725],\n",
              "         [0.27843137, 0.28627451, 0.23921569]],\n",
              "\n",
              "        [[0.54901961, 0.60784314, 0.64313725],\n",
              "         [0.54509804, 0.57254902, 0.58431373],\n",
              "         [0.45098039, 0.45098039, 0.43921569],\n",
              "         ...,\n",
              "         [0.30980392, 0.32156863, 0.25098039],\n",
              "         [0.26666667, 0.2745098 , 0.21568627],\n",
              "         [0.2627451 , 0.27058824, 0.21568627]],\n",
              "\n",
              "        ...,\n",
              "\n",
              "        [[0.68627451, 0.65490196, 0.65098039],\n",
              "         [0.61176471, 0.60392157, 0.62745098],\n",
              "         [0.60392157, 0.62745098, 0.66666667],\n",
              "         ...,\n",
              "         [0.16470588, 0.13333333, 0.14117647],\n",
              "         [0.23921569, 0.20784314, 0.22352941],\n",
              "         [0.36470588, 0.3254902 , 0.35686275]],\n",
              "\n",
              "        [[0.64705882, 0.60392157, 0.50196078],\n",
              "         [0.61176471, 0.59607843, 0.50980392],\n",
              "         [0.62352941, 0.63137255, 0.55686275],\n",
              "         ...,\n",
              "         [0.40392157, 0.36470588, 0.37647059],\n",
              "         [0.48235294, 0.44705882, 0.47058824],\n",
              "         [0.51372549, 0.4745098 , 0.51372549]],\n",
              "\n",
              "        [[0.63921569, 0.58039216, 0.47058824],\n",
              "         [0.61960784, 0.58039216, 0.47843137],\n",
              "         [0.63921569, 0.61176471, 0.52156863],\n",
              "         ...,\n",
              "         [0.56078431, 0.52156863, 0.54509804],\n",
              "         [0.56078431, 0.5254902 , 0.55686275],\n",
              "         [0.56078431, 0.52156863, 0.56470588]]],\n",
              "\n",
              "\n",
              "       [[[1.        , 1.        , 1.        ],\n",
              "         [0.99215686, 0.99215686, 0.99215686],\n",
              "         [0.99215686, 0.99215686, 0.99215686],\n",
              "         ...,\n",
              "         [0.99215686, 0.99215686, 0.99215686],\n",
              "         [0.99215686, 0.99215686, 0.99215686],\n",
              "         [0.99215686, 0.99215686, 0.99215686]],\n",
              "\n",
              "        [[1.        , 1.        , 1.        ],\n",
              "         [1.        , 1.        , 1.        ],\n",
              "         [1.        , 1.        , 1.        ],\n",
              "         ...,\n",
              "         [1.        , 1.        , 1.        ],\n",
              "         [1.        , 1.        , 1.        ],\n",
              "         [1.        , 1.        , 1.        ]],\n",
              "\n",
              "        [[1.        , 1.        , 1.        ],\n",
              "         [0.99607843, 0.99607843, 0.99607843],\n",
              "         [0.99607843, 0.99607843, 0.99607843],\n",
              "         ...,\n",
              "         [0.99607843, 0.99607843, 0.99607843],\n",
              "         [0.99607843, 0.99607843, 0.99607843],\n",
              "         [0.99607843, 0.99607843, 0.99607843]],\n",
              "\n",
              "        ...,\n",
              "\n",
              "        [[0.44313725, 0.47058824, 0.43921569],\n",
              "         [0.43529412, 0.4627451 , 0.43529412],\n",
              "         [0.41176471, 0.43921569, 0.41568627],\n",
              "         ...,\n",
              "         [0.28235294, 0.31764706, 0.31372549],\n",
              "         [0.28235294, 0.31372549, 0.30980392],\n",
              "         [0.28235294, 0.31372549, 0.30980392]],\n",
              "\n",
              "        [[0.43529412, 0.4627451 , 0.43137255],\n",
              "         [0.40784314, 0.43529412, 0.40784314],\n",
              "         [0.38823529, 0.41568627, 0.38431373],\n",
              "         ...,\n",
              "         [0.26666667, 0.29411765, 0.28627451],\n",
              "         [0.2745098 , 0.29803922, 0.29411765],\n",
              "         [0.30588235, 0.32941176, 0.32156863]],\n",
              "\n",
              "        [[0.41568627, 0.44313725, 0.41176471],\n",
              "         [0.38823529, 0.41568627, 0.38431373],\n",
              "         [0.37254902, 0.4       , 0.36862745],\n",
              "         ...,\n",
              "         [0.30588235, 0.33333333, 0.3254902 ],\n",
              "         [0.30980392, 0.33333333, 0.3254902 ],\n",
              "         [0.31372549, 0.3372549 , 0.32941176]]],\n",
              "\n",
              "\n",
              "       ...,\n",
              "\n",
              "\n",
              "       [[[0.1372549 , 0.69803922, 0.92156863],\n",
              "         [0.15686275, 0.69019608, 0.9372549 ],\n",
              "         [0.16470588, 0.69019608, 0.94509804],\n",
              "         ...,\n",
              "         [0.38823529, 0.69411765, 0.85882353],\n",
              "         [0.30980392, 0.57647059, 0.77254902],\n",
              "         [0.34901961, 0.58039216, 0.74117647]],\n",
              "\n",
              "        [[0.22352941, 0.71372549, 0.91764706],\n",
              "         [0.17254902, 0.72156863, 0.98039216],\n",
              "         [0.19607843, 0.71764706, 0.94117647],\n",
              "         ...,\n",
              "         [0.61176471, 0.71372549, 0.78431373],\n",
              "         [0.55294118, 0.69411765, 0.80784314],\n",
              "         [0.45490196, 0.58431373, 0.68627451]],\n",
              "\n",
              "        [[0.38431373, 0.77254902, 0.92941176],\n",
              "         [0.25098039, 0.74117647, 0.98823529],\n",
              "         [0.27058824, 0.75294118, 0.96078431],\n",
              "         ...,\n",
              "         [0.7372549 , 0.76470588, 0.80784314],\n",
              "         [0.46666667, 0.52941176, 0.57647059],\n",
              "         [0.23921569, 0.30980392, 0.35294118]],\n",
              "\n",
              "        ...,\n",
              "\n",
              "        [[0.28627451, 0.30980392, 0.30196078],\n",
              "         [0.20784314, 0.24705882, 0.26666667],\n",
              "         [0.21176471, 0.26666667, 0.31372549],\n",
              "         ...,\n",
              "         [0.06666667, 0.15686275, 0.25098039],\n",
              "         [0.08235294, 0.14117647, 0.2       ],\n",
              "         [0.12941176, 0.18823529, 0.19215686]],\n",
              "\n",
              "        [[0.23921569, 0.26666667, 0.29411765],\n",
              "         [0.21568627, 0.2745098 , 0.3372549 ],\n",
              "         [0.22352941, 0.30980392, 0.40392157],\n",
              "         ...,\n",
              "         [0.09411765, 0.18823529, 0.28235294],\n",
              "         [0.06666667, 0.1372549 , 0.20784314],\n",
              "         [0.02745098, 0.09019608, 0.1254902 ]],\n",
              "\n",
              "        [[0.17254902, 0.21960784, 0.28627451],\n",
              "         [0.18039216, 0.25882353, 0.34509804],\n",
              "         [0.19215686, 0.30196078, 0.41176471],\n",
              "         ...,\n",
              "         [0.10588235, 0.20392157, 0.30196078],\n",
              "         [0.08235294, 0.16862745, 0.25882353],\n",
              "         [0.04705882, 0.12156863, 0.19607843]]],\n",
              "\n",
              "\n",
              "       [[[0.74117647, 0.82745098, 0.94117647],\n",
              "         [0.72941176, 0.81568627, 0.9254902 ],\n",
              "         [0.7254902 , 0.81176471, 0.92156863],\n",
              "         ...,\n",
              "         [0.68627451, 0.76470588, 0.87843137],\n",
              "         [0.6745098 , 0.76078431, 0.87058824],\n",
              "         [0.6627451 , 0.76078431, 0.8627451 ]],\n",
              "\n",
              "        [[0.76078431, 0.82352941, 0.9372549 ],\n",
              "         [0.74901961, 0.81176471, 0.9254902 ],\n",
              "         [0.74509804, 0.80784314, 0.92156863],\n",
              "         ...,\n",
              "         [0.67843137, 0.75294118, 0.8627451 ],\n",
              "         [0.67058824, 0.74901961, 0.85490196],\n",
              "         [0.65490196, 0.74509804, 0.84705882]],\n",
              "\n",
              "        [[0.81568627, 0.85882353, 0.95686275],\n",
              "         [0.80392157, 0.84705882, 0.94117647],\n",
              "         [0.8       , 0.84313725, 0.9372549 ],\n",
              "         ...,\n",
              "         [0.68627451, 0.74901961, 0.85098039],\n",
              "         [0.6745098 , 0.74509804, 0.84705882],\n",
              "         [0.6627451 , 0.74901961, 0.84313725]],\n",
              "\n",
              "        ...,\n",
              "\n",
              "        [[0.81176471, 0.78039216, 0.70980392],\n",
              "         [0.79607843, 0.76470588, 0.68627451],\n",
              "         [0.79607843, 0.76862745, 0.67843137],\n",
              "         ...,\n",
              "         [0.52941176, 0.51764706, 0.49803922],\n",
              "         [0.63529412, 0.61960784, 0.58823529],\n",
              "         [0.65882353, 0.63921569, 0.59215686]],\n",
              "\n",
              "        [[0.77647059, 0.74509804, 0.66666667],\n",
              "         [0.74117647, 0.70980392, 0.62352941],\n",
              "         [0.70588235, 0.6745098 , 0.57647059],\n",
              "         ...,\n",
              "         [0.69803922, 0.67058824, 0.62745098],\n",
              "         [0.68627451, 0.6627451 , 0.61176471],\n",
              "         [0.68627451, 0.6627451 , 0.60392157]],\n",
              "\n",
              "        [[0.77647059, 0.74117647, 0.67843137],\n",
              "         [0.74117647, 0.70980392, 0.63529412],\n",
              "         [0.69803922, 0.66666667, 0.58431373],\n",
              "         ...,\n",
              "         [0.76470588, 0.72156863, 0.6627451 ],\n",
              "         [0.76862745, 0.74117647, 0.67058824],\n",
              "         [0.76470588, 0.74509804, 0.67058824]]],\n",
              "\n",
              "\n",
              "       [[[0.89803922, 0.89803922, 0.9372549 ],\n",
              "         [0.9254902 , 0.92941176, 0.96862745],\n",
              "         [0.91764706, 0.9254902 , 0.96862745],\n",
              "         ...,\n",
              "         [0.85098039, 0.85882353, 0.91372549],\n",
              "         [0.86666667, 0.8745098 , 0.91764706],\n",
              "         [0.87058824, 0.8745098 , 0.91372549]],\n",
              "\n",
              "        [[0.87058824, 0.86666667, 0.89803922],\n",
              "         [0.9372549 , 0.9372549 , 0.97647059],\n",
              "         [0.91372549, 0.91764706, 0.96470588],\n",
              "         ...,\n",
              "         [0.8745098 , 0.8745098 , 0.9254902 ],\n",
              "         [0.89019608, 0.89411765, 0.93333333],\n",
              "         [0.82352941, 0.82745098, 0.8627451 ]],\n",
              "\n",
              "        [[0.83529412, 0.80784314, 0.82745098],\n",
              "         [0.91764706, 0.90980392, 0.9372549 ],\n",
              "         [0.90588235, 0.91372549, 0.95686275],\n",
              "         ...,\n",
              "         [0.8627451 , 0.8627451 , 0.90980392],\n",
              "         [0.8627451 , 0.85882353, 0.90980392],\n",
              "         [0.79215686, 0.79607843, 0.84313725]],\n",
              "\n",
              "        ...,\n",
              "\n",
              "        [[0.58823529, 0.56078431, 0.52941176],\n",
              "         [0.54901961, 0.52941176, 0.49803922],\n",
              "         [0.51764706, 0.49803922, 0.47058824],\n",
              "         ...,\n",
              "         [0.87843137, 0.87058824, 0.85490196],\n",
              "         [0.90196078, 0.89411765, 0.88235294],\n",
              "         [0.94509804, 0.94509804, 0.93333333]],\n",
              "\n",
              "        [[0.5372549 , 0.51764706, 0.49411765],\n",
              "         [0.50980392, 0.49803922, 0.47058824],\n",
              "         [0.49019608, 0.4745098 , 0.45098039],\n",
              "         ...,\n",
              "         [0.70980392, 0.70588235, 0.69803922],\n",
              "         [0.79215686, 0.78823529, 0.77647059],\n",
              "         [0.83137255, 0.82745098, 0.81176471]],\n",
              "\n",
              "        [[0.47843137, 0.46666667, 0.44705882],\n",
              "         [0.4627451 , 0.45490196, 0.43137255],\n",
              "         [0.47058824, 0.45490196, 0.43529412],\n",
              "         ...,\n",
              "         [0.70196078, 0.69411765, 0.67843137],\n",
              "         [0.64313725, 0.64313725, 0.63529412],\n",
              "         [0.63921569, 0.63921569, 0.63137255]]]])"
            ]
          },
          "metadata": {},
          "execution_count": 6
        }
      ],
      "source": [
        "# TODO: normalize pixel values to [0,1]\n",
        "x_train, x_test = x_train/255.0, x_test/255.0\n",
        "x_train"
      ]
    },
    {
      "cell_type": "markdown",
      "id": "07cfdfc8",
      "metadata": {
        "id": "07cfdfc8"
      },
      "source": [
        "## Visualize the data\n",
        "\n",
        "\n",
        "### TODO 2\n",
        "1. Determine the number of distinct values in the target variable(y_train).\n",
        "    1. Hint: use `unique` function: [Link](https://numpy.org/doc/stable/reference/generated/numpy.unique.html)"
      ]
    },
    {
      "cell_type": "code",
      "source": [
        "# TODO: you code here\n",
        "np.unique(y_train)"
      ],
      "metadata": {
        "id": "aHSMxcFoi6Si",
        "colab": {
          "base_uri": "https://localhost:8080/"
        },
        "outputId": "6c130476-778e-420e-fdd6-e511789ac582"
      },
      "id": "aHSMxcFoi6Si",
      "execution_count": 7,
      "outputs": [
        {
          "output_type": "execute_result",
          "data": {
            "text/plain": [
              "array([0, 1, 2, 3, 4, 5, 6, 7, 8, 9], dtype=uint8)"
            ]
          },
          "metadata": {},
          "execution_count": 7
        }
      ]
    },
    {
      "cell_type": "markdown",
      "id": "d9e573e7",
      "metadata": {
        "id": "d9e573e7"
      },
      "source": [
        "Now let's see the image of a training sample using the following function `imshow` [(Reference_link)](https://matplotlib.org/stable/api/_as_gen/matplotlib.pyplot.imshow.html). In matplotlib the \"imshow\" function is used to display the image"
      ]
    },
    {
      "cell_type": "code",
      "execution_count": 8,
      "id": "f0d9724d",
      "metadata": {
        "ExecuteTime": {
          "end_time": "2023-02-07T00:13:22.448851Z",
          "start_time": "2023-02-07T00:13:22.360374Z"
        },
        "colab": {
          "base_uri": "https://localhost:8080/",
          "height": 448
        },
        "id": "f0d9724d",
        "outputId": "b417652d-727e-48f4-c1ca-1a11adfa7bc5"
      },
      "outputs": [
        {
          "output_type": "execute_result",
          "data": {
            "text/plain": [
              "<matplotlib.image.AxesImage at 0x7b496488ce90>"
            ]
          },
          "metadata": {},
          "execution_count": 8
        },
        {
          "output_type": "display_data",
          "data": {
            "text/plain": [
              "<Figure size 640x480 with 1 Axes>"
            ],
            "image/png": "[encoded data removed]"
          },
          "metadata": {}
        }
      ],
      "source": [
        "plt.imshow(x_train[0])"
      ]
    },
    {
      "cell_type": "markdown",
      "id": "c70c0b41",
      "metadata": {
        "id": "c70c0b41"
      },
      "source": [
        "### TODO 2.1\n",
        "1. Now our next goal is to create image plotting function which should take arguments as x , title and bot.\n",
        "    1. The function should display the tensor (i.e your argument 'x') as an image using `imshow`.\n",
        "    1. we have to remove the axis of images to remove we use the `xticks` and `yticks` methods, respectively. ([Reference_link](https://matplotlib.org/stable/api/_as_gen/matplotlib.pyplot.xticks.html))\n",
        "    1. Now that we removed the axis our function should now label using `xlabel` and take argument as bot. ([Reference_link](https://matplotlib.org/3.1.1/api/_as_gen/matplotlib.pyplot.xlabel.html))\n",
        "        \n"
      ]
    },
    {
      "cell_type": "code",
      "execution_count": 9,
      "id": "f86da4eb",
      "metadata": {
        "ExecuteTime": {
          "end_time": "2023-02-07T00:13:22.452628Z",
          "start_time": "2023-02-07T00:13:22.450057Z"
        },
        "id": "f86da4eb"
      },
      "outputs": [],
      "source": [
        "# TODO: create image plot function\n",
        "def show_img(x, title=\"\", bot=\"\"):\n",
        "    plt.imshow(x)\n",
        "    plt.xticks([])  # Remove x-axis ticks\n",
        "    plt.yticks([])  # Remove y-axis ticks\n",
        "    plt.xlabel(bot)  # Set bottom label\n",
        "    plt.title(title)  # Set title\n",
        "\n",
        "\n",
        "\n",
        "\n"
      ]
    },
    {
      "cell_type": "markdown",
      "id": "bfa4fffd",
      "metadata": {
        "id": "bfa4fffd"
      },
      "source": [
        "Now that we have created a image plotting function above lets plot our images from \"x_train\" tensor\n",
        "### TODO 2.2\n",
        "1. using `figure` ([Reference_link](https://matplotlib.org/stable/api/_as_gen/matplotlib.pyplot.figure.html)),create a Matplotlib figure with a specified size of (10, 5).\n",
        "    1. write a for loop which take range of 10 values.\n",
        "    2. using `subplot` ([Reference_link](https://matplotlib.org/stable/api/_as_gen/matplotlib.pyplot.subplots.html)) mention the number of rows your images should be displayed for example below output show 2 rows and 5 columns and another argument as i+1\n",
        "    3. Lets use the `show_img` function we have created and give 3 arguments, 1st argument is every element of x_train and and the second is title of each image is set to the corresponding label from the `s_labels` list and the index of the label in \"y_train\".\n",
        "    4. Exit the loop adjust the subplots to fit the figure size using `tight_layout` ([Reference_link](https://matplotlib.org/stable/api/_as_gen/matplotlib.pyplot.tight_layout.html)) function .\n"
      ]
    },
    {
      "cell_type": "code",
      "execution_count": 10,
      "id": "f6c5d467",
      "metadata": {
        "ExecuteTime": {
          "end_time": "2023-02-07T00:13:22.721178Z",
          "start_time": "2023-02-07T00:13:22.455329Z"
        },
        "colab": {
          "base_uri": "https://localhost:8080/",
          "height": 473
        },
        "id": "f6c5d467",
        "outputId": "f289fe9b-03b4-4ea0-ce7d-76d81622d2cc"
      },
      "outputs": [
        {
          "output_type": "display_data",
          "data": {
            "text/plain": [
              "<Figure size 1000x500 with 10 Axes>"
            ],
            "image/png": "[encoded data removed]"
          },
          "metadata": {}
        }
      ],
      "source": [
        "# TODO: plot first 10 images using subplot\n",
        "\n",
        "fig, axes = plt.subplots(nrows=2, ncols=5, figsize=(10, 5))\n",
        "\n",
        "# Flatten the axes array for easy iteration\n",
        "axes = axes.flatten()\n",
        "\n",
        "# Loop through the first 10 images\n",
        "for i in range(10):\n",
        "    plt.sca(axes[i])  # Set the current axis to plot\n",
        "    show_img(x_train[i], title=f\"{s_labels[y_train[i][0]]} ({y_train[i][0]})\", bot=\"\")\n",
        "\n",
        "# Adjust layout for proper spacing\n",
        "plt.tight_layout()\n",
        "plt.show()\n",
        "\n",
        "\n",
        "\n",
        "\n",
        "\n"
      ]
    },
    {
      "cell_type": "markdown",
      "id": "19067a5b",
      "metadata": {
        "id": "19067a5b"
      },
      "source": [
        "## Convolution\n",
        "A convolution is a linear operation that involves multiplying a set of weights with the input to yield a two-dimensional array of weights called a filter. If the filter is tuned to detect a specific type of feature in the input, then the repetitive use of that filter across the entire input image can discover that feature anywhere in the image.\n",
        "[Refer to this link](https://www.nvidia.com/en-us/glossary/data-science/convolutional-neural-network/)\n"
      ]
    },
    {
      "cell_type": "markdown",
      "id": "44ddb902",
      "metadata": {
        "id": "44ddb902"
      },
      "source": [
        "Here the values being assigned are the dimensions of x_train in the order batch_size, height, width, and channels."
      ]
    },
    {
      "cell_type": "code",
      "execution_count": 11,
      "id": "f2bfaa8f",
      "metadata": {
        "ExecuteTime": {
          "end_time": "2023-02-07T00:13:22.724534Z",
          "start_time": "2023-02-07T00:13:22.722580Z"
        },
        "id": "f2bfaa8f"
      },
      "outputs": [],
      "source": [
        "batch_size, height, width, channels = x_train.shape"
      ]
    },
    {
      "cell_type": "code",
      "execution_count": 12,
      "id": "b49cec03",
      "metadata": {
        "ExecuteTime": {
          "end_time": "2023-02-07T00:13:22.762601Z",
          "start_time": "2023-02-07T00:13:22.725604Z"
        },
        "colab": {
          "base_uri": "https://localhost:8080/",
          "height": 262
        },
        "id": "b49cec03",
        "outputId": "f57e1877-b0b5-4680-e651-56651dbf2a70"
      },
      "outputs": [
        {
          "output_type": "display_data",
          "data": {
            "text/plain": [
              "<Figure size 640x480 with 2 Axes>"
            ],
            "image/png": "[encoded data removed]"
          },
          "metadata": {}
        }
      ],
      "source": [
        "filters = np.zeros(shape=(5,5,channels,2))\n",
        "filters[:, 2, :, 0] = 1\n",
        "filters[2, :, :, 1] = 1\n",
        "\n",
        "plt.subplot(1,2,1)\n",
        "show_img(filters[:, :, :, 0])\n",
        "plt.subplot(1,2,2)\n",
        "show_img(filters[:, :, :, 1])"
      ]
    },
    {
      "cell_type": "markdown",
      "id": "94fb3d17",
      "metadata": {
        "id": "94fb3d17"
      },
      "source": [
        "### TODO: 3\n",
        "1. computes a 2-D convolution (`tf.nn.conv2d`) with the input argument x train(no of samples as 10) while maintaining the filters as filters, strides as \"1\", and padding as \"SAME\". [Reference_link](https://www.tensorflow.org/api_docs/python/tf/nn/conv2d)"
      ]
    },
    {
      "cell_type": "code",
      "execution_count": 13,
      "id": "a255043f",
      "metadata": {
        "ExecuteTime": {
          "end_time": "2023-02-07T00:13:22.791004Z",
          "start_time": "2023-02-07T00:13:22.764033Z"
        },
        "id": "a255043f"
      },
      "outputs": [],
      "source": [
        "# TODO: convolution\n",
        "out = tf.nn.conv2d(x_train[:10], filters, strides=1, padding='SAME')"
      ]
    },
    {
      "cell_type": "code",
      "execution_count": 14,
      "id": "c1127eab",
      "metadata": {
        "ExecuteTime": {
          "end_time": "2023-02-07T00:13:22.794375Z",
          "start_time": "2023-02-07T00:13:22.792207Z"
        },
        "colab": {
          "base_uri": "https://localhost:8080/"
        },
        "id": "c1127eab",
        "outputId": "c825636b-9139-4e18-9d42-970456efdd2b"
      },
      "outputs": [
        {
          "output_type": "execute_result",
          "data": {
            "text/plain": [
              "TensorShape([10, 32, 32, 2])"
            ]
          },
          "metadata": {},
          "execution_count": 14
        }
      ],
      "source": [
        "out.shape"
      ]
    },
    {
      "cell_type": "markdown",
      "id": "dffbedba",
      "metadata": {
        "id": "dffbedba"
      },
      "source": [
        "### TODO: 3.1\n",
        "1. Using the `show_img` function which you have created above plot i'th input in `x_train`\n",
        "2. using the `show_img` function and plot the i'th `out` which created above selecting 0th channel as 4th argument.\n",
        "3. using the `show_img` function and plot the i'th `out` which created above selecting 1st channel as 4th argument."
      ]
    },
    {
      "cell_type": "code",
      "execution_count": 15,
      "id": "047b6e4e",
      "metadata": {
        "ExecuteTime": {
          "end_time": "2023-02-07T00:13:23.058850Z",
          "start_time": "2023-02-07T00:13:22.795313Z"
        },
        "colab": {
          "base_uri": "https://localhost:8080/",
          "height": 607
        },
        "id": "047b6e4e",
        "outputId": "ac943da3-555b-4d54-aaa4-a0250b99317a"
      },
      "outputs": [
        {
          "output_type": "display_data",
          "data": {
            "text/plain": [
              "<Figure size 1000x600 with 15 Axes>"
            ],
            "image/png": "[encoded data removed]"
          },
          "metadata": {}
        }
      ],
      "source": [
        "plt.figure(figsize=(10,6))\n",
        "for i in range(5):\n",
        "    plt.subplot(3, 5, i+1)\n",
        "    show_img(x_train[i])\n",
        "    plt.subplot(3, 5, i+6)\n",
        "    show_img(out[i,:,:,0])\n",
        "    plt.subplot(3, 5, i+11)\n",
        "    show_img(out[i,:,:,1])\n",
        "\n",
        "plt.tight_layout()"
      ]
    },
    {
      "cell_type": "markdown",
      "id": "f0ba1793",
      "metadata": {
        "id": "f0ba1793"
      },
      "source": [
        "### TODO: 3.2\n",
        "1. Now our next goal is to create image plotting function(show_out) which should take arguments as x , and n_imgs.\n",
        "    1. write a for loop which take range `n_imgs`.\n",
        "    1. create a `subplot` with two figures in a row showing the output first image in `x` fro two channels respectively."
      ]
    },
    {
      "cell_type": "code",
      "execution_count": 16,
      "id": "58ebb968",
      "metadata": {
        "ExecuteTime": {
          "end_time": "2023-02-07T00:13:23.062305Z",
          "start_time": "2023-02-07T00:13:23.059949Z"
        },
        "id": "58ebb968"
      },
      "outputs": [],
      "source": [
        "# TODO: plot output images\n",
        "def show_out(x, n_imgs=2):\n",
        "    plt.figure(figsize=(10,8) if n_imgs==2 else (10,6))\n",
        "    for i in range(n_imgs):\n",
        "        plt.subplot(1, n_imgs, i+1)\n",
        "        show_img(x[i,:,:,0])\n",
        "\n",
        "\n"
      ]
    },
    {
      "cell_type": "code",
      "execution_count": 17,
      "id": "52d5bc22",
      "metadata": {
        "ExecuteTime": {
          "end_time": "2023-02-07T00:13:23.108595Z",
          "start_time": "2023-02-07T00:13:23.063402Z"
        },
        "colab": {
          "base_uri": "https://localhost:8080/",
          "height": 389
        },
        "id": "52d5bc22",
        "outputId": "95e72020-167d-4a84-9006-672167a1cc76"
      },
      "outputs": [
        {
          "output_type": "display_data",
          "data": {
            "text/plain": [
              "<Figure size 1000x800 with 2 Axes>"
            ],
            "image/png": "[encoded data removed]"
          },
          "metadata": {}
        }
      ],
      "source": [
        "show_out(out)"
      ]
    },
    {
      "cell_type": "markdown",
      "id": "d6235cc2",
      "metadata": {
        "ExecuteTime": {
          "end_time": "2023-02-06T20:31:28.178623Z",
          "start_time": "2023-02-06T20:31:28.167610Z"
        },
        "id": "d6235cc2"
      },
      "source": [
        "### TODO: 3.3\n",
        "1. Print out the shape of your `out`."
      ]
    },
    {
      "cell_type": "code",
      "execution_count": 18,
      "id": "944ffaae",
      "metadata": {
        "ExecuteTime": {
          "end_time": "2023-02-07T00:13:23.112657Z",
          "start_time": "2023-02-07T00:13:23.110169Z"
        },
        "colab": {
          "base_uri": "https://localhost:8080/"
        },
        "id": "944ffaae",
        "outputId": "03a9db11-31b7-49df-b646-01a3b3090288"
      },
      "outputs": [
        {
          "output_type": "execute_result",
          "data": {
            "text/plain": [
              "TensorShape([10, 32, 32, 2])"
            ]
          },
          "metadata": {},
          "execution_count": 18
        }
      ],
      "source": [
        "# TODO\n",
        "out.shape"
      ]
    },
    {
      "cell_type": "markdown",
      "id": "451a22be",
      "metadata": {
        "id": "451a22be"
      },
      "source": [
        "## Padding\n",
        "\n",
        "The main benefits of padding are the following:\n",
        "1. It allows you to use a CONV layer without necessarily shrinking the height and width of the volumes. This is important for building deeper networks, since otherwise the height/width would shrink as you go to deeper layers. An important special case is the \"same\" convolution, in which the height/width is exactly preserved after one layer.\n",
        "2. It helps us keep more of the information at the border of an image. Without padding, very few values at the next layer would be affected by pixels as the edges of an image.\n",
        "[Refer to this link for better understanding](https://medium.com/codex/why-padding-is-important-in-convolutional-neural-network-cnn-8cf7e9e38ca8)"
      ]
    },
    {
      "cell_type": "markdown",
      "id": "c96c3d3b",
      "metadata": {
        "id": "c96c3d3b"
      },
      "source": [
        "### TODO: 4\n",
        "1. Compute the conv2d feel free to use the `out`(convolution 2d) which you have created above but this time use padding as \"VALID\" padding ([Reference_link](https://www.tensorflow.org/api_docs/python/tf/nn/conv2d)) and rest will remain same.\n"
      ]
    },
    {
      "cell_type": "code",
      "execution_count": 19,
      "id": "958485b3",
      "metadata": {
        "ExecuteTime": {
          "end_time": "2023-02-07T00:13:23.116608Z",
          "start_time": "2023-02-07T00:13:23.113595Z"
        },
        "id": "958485b3"
      },
      "outputs": [],
      "source": [
        "#TODO\n",
        "out1 = tf.nn.conv2d(x_train[:10], filters, strides=1, padding='VALID')"
      ]
    },
    {
      "cell_type": "markdown",
      "id": "c3652ecc",
      "metadata": {
        "id": "c3652ecc"
      },
      "source": [
        "### TODO: 4.1\n",
        "1. Using `show_out` function which we have created above plot the `out1`.\n",
        "1. Examine the shape of your `out1`"
      ]
    },
    {
      "cell_type": "code",
      "execution_count": 20,
      "id": "1cd57006",
      "metadata": {
        "ExecuteTime": {
          "end_time": "2023-02-07T00:13:23.163221Z",
          "start_time": "2023-02-07T00:13:23.117672Z"
        },
        "colab": {
          "base_uri": "https://localhost:8080/",
          "height": 389
        },
        "id": "1cd57006",
        "outputId": "f133612d-e51f-4f2f-a34c-a9b875e38eb8"
      },
      "outputs": [
        {
          "output_type": "display_data",
          "data": {
            "text/plain": [
              "<Figure size 1000x800 with 2 Axes>"
            ],
            "image/png": "[encoded data removed]"
          },
          "metadata": {}
        }
      ],
      "source": [
        "# TODO\n",
        "show_out(out1)"
      ]
    },
    {
      "cell_type": "code",
      "execution_count": 21,
      "id": "b49ff613",
      "metadata": {
        "ExecuteTime": {
          "end_time": "2023-02-07T00:13:23.166740Z",
          "start_time": "2023-02-07T00:13:23.164097Z"
        },
        "colab": {
          "base_uri": "https://localhost:8080/"
        },
        "id": "b49ff613",
        "outputId": "5e6ea0f1-a75c-4384-c928-a469f1189d86"
      },
      "outputs": [
        {
          "output_type": "execute_result",
          "data": {
            "text/plain": [
              "TensorShape([10, 28, 28, 2])"
            ]
          },
          "metadata": {},
          "execution_count": 21
        }
      ],
      "source": [
        "# TODO\n",
        "out1.shape"
      ]
    },
    {
      "cell_type": "markdown",
      "id": "5a78a019",
      "metadata": {
        "id": "5a78a019"
      },
      "source": [
        "## Stride\n",
        "Stride is the number of pixels shifts over the input matrix.\n",
        "\n",
        "It is a component of convolutional neural networks, or neural networks tuned for the compression of images and video data. Stride is a parameter of the neural network's filter that modifies the amount of movement over the image or video. For example, if a neural network's stride is set to 1, the filter will move one pixel, or unit,  at a time. The size of the filter affects the encoded output volume, so stride is often set to a whole integer, rather than a fraction or decimal. [Refer to this link for better understanding](https://deepai.org/machine-learning-glossary-and-terms/stride)\n",
        "\n",
        "\n",
        "### TODO: 5\n",
        "1. Referring to the previous TODO, but compute conv2d by giving `strides` as 2 and use `padding` as \"SAME\" padding and store it to `out2`.\n",
        "2. Using `show_out`, plot the `out2`.\n",
        "3. Examine the shape of your `out2`"
      ]
    },
    {
      "cell_type": "code",
      "execution_count": 22,
      "id": "6f5c9ef5",
      "metadata": {
        "ExecuteTime": {
          "end_time": "2023-02-07T00:13:23.214331Z",
          "start_time": "2023-02-07T00:13:23.167711Z"
        },
        "colab": {
          "base_uri": "https://localhost:8080/",
          "height": 407
        },
        "id": "6f5c9ef5",
        "outputId": "0deaef78-2b23-4570-b90e-b6c375917b93"
      },
      "outputs": [
        {
          "output_type": "execute_result",
          "data": {
            "text/plain": [
              "TensorShape([10, 16, 16, 2])"
            ]
          },
          "metadata": {},
          "execution_count": 22
        },
        {
          "output_type": "display_data",
          "data": {
            "text/plain": [
              "<Figure size 1000x800 with 2 Axes>"
            ],
            "image/png": "[encoded data removed]"
          },
          "metadata": {}
        }
      ],
      "source": [
        "# TODO\n",
        "out2 = tf.nn.conv2d(x_train[:10], filters, strides=2, padding='SAME')\n",
        "show_out(out2)\n",
        "out2.shape\n",
        "\n"
      ]
    },
    {
      "cell_type": "markdown",
      "id": "cda61d18",
      "metadata": {
        "id": "cda61d18"
      },
      "source": [
        "### TODO: 5.1\n",
        "1. Try conv2d with `strides` as 3 and store the output to `out3`.\n",
        "2. Using `show_out` function, plot the `out3`.\n",
        "3. Examine the shape of your `out3`."
      ]
    },
    {
      "cell_type": "code",
      "execution_count": 23,
      "id": "6b96810c",
      "metadata": {
        "ExecuteTime": {
          "end_time": "2023-02-07T00:13:23.267420Z",
          "start_time": "2023-02-07T00:13:23.218842Z"
        },
        "colab": {
          "base_uri": "https://localhost:8080/",
          "height": 407
        },
        "id": "6b96810c",
        "outputId": "b2aa7b80-8fed-409a-ad60-7b8bfc11f77c"
      },
      "outputs": [
        {
          "output_type": "execute_result",
          "data": {
            "text/plain": [
              "TensorShape([10, 11, 11, 2])"
            ]
          },
          "metadata": {},
          "execution_count": 23
        },
        {
          "output_type": "display_data",
          "data": {
            "text/plain": [
              "<Figure size 1000x800 with 2 Axes>"
            ],
            "image/png": "[encoded data removed]"
          },
          "metadata": {}
        }
      ],
      "source": [
        "# TODO\n",
        "out3 = tf.nn.conv2d(x_train[:10], filters, strides=3, padding='SAME')\n",
        "show_out(out3)\n",
        "out3.shape\n",
        "\n",
        "\n"
      ]
    },
    {
      "cell_type": "markdown",
      "id": "3c8dd31f",
      "metadata": {
        "id": "3c8dd31f"
      },
      "source": [
        "## Pooling\n",
        "A pooling layer is another building block of a CNN. Pooling Its function is to progressively reduce the spatial size of the representation to reduce the network complexity and computational cost.\n",
        "[Refer to this link for better understanding](https://machinelearningmastery.com/pooling-layers-for-convolutional-neural-networks/#:~:text=A%20pooling%20layer%20is%20a,Convolutional%20Layer)\n",
        "\n",
        "1. There are two types of widely used pooling in CNN layer:\n",
        "   1. Average Pooling\n",
        "\n",
        "   2. Max Pooling\n",
        "![1_vKn1L0Im3B9yFWCzhNOQSw.webp](attachment:1_vKn1L0Im3B9yFWCzhNOQSw.webp)"
      ]
    },
    {
      "cell_type": "markdown",
      "id": "04cf0f41",
      "metadata": {
        "id": "04cf0f41"
      },
      "source": [
        "![1_Fa94PgzyQ6W_wRAQgmf3HQ.webp](attachment:1_Fa94PgzyQ6W_wRAQgmf3HQ.webp)"
      ]
    },
    {
      "cell_type": "markdown",
      "id": "b0468474",
      "metadata": {
        "id": "b0468474"
      },
      "source": [
        "### TODO: 6\n",
        "1. Using `keras.layers.MaxPool2D`, create an instance `max_pool` with `pool_size` 2.\n",
        "1. Apply `max_pool` to first 10 training images in `x_train` to store the output to `out4`.\n",
        "1. Using `show_out` to plot the max_pool output images.\n",
        "  * HINT: pass 3 as the second argument to plot three images in a row.\n",
        "1. Print out the shape of `out4`.  "
      ]
    },
    {
      "cell_type": "code",
      "execution_count": 24,
      "id": "6c943416",
      "metadata": {
        "ExecuteTime": {
          "end_time": "2023-02-07T00:13:23.331564Z",
          "start_time": "2023-02-07T00:13:23.268881Z"
        },
        "colab": {
          "base_uri": "https://localhost:8080/",
          "height": 282
        },
        "id": "6c943416",
        "outputId": "45872633-de0a-4920-f08c-e3516b8f716b"
      },
      "outputs": [
        {
          "output_type": "execute_result",
          "data": {
            "text/plain": [
              "TensorShape([10, 16, 16, 3])"
            ]
          },
          "metadata": {},
          "execution_count": 24
        },
        {
          "output_type": "display_data",
          "data": {
            "text/plain": [
              "<Figure size 1000x600 with 3 Axes>"
            ],
            "image/png": "[encoded data removed]"
          },
          "metadata": {}
        }
      ],
      "source": [
        "max_pool = keras.layers.MaxPool2D(pool_size=2)\n",
        "out4 = max_pool(x_train[:10])\n",
        "show_out(out4,3)\n",
        "out4.shape\n",
        "\n",
        "\n"
      ]
    },
    {
      "cell_type": "markdown",
      "id": "472854cc",
      "metadata": {
        "id": "472854cc"
      },
      "source": [
        "To compare the max pooling images with the input images we can plot the original images as below."
      ]
    },
    {
      "cell_type": "code",
      "execution_count": 25,
      "id": "5e4f561a",
      "metadata": {
        "ExecuteTime": {
          "end_time": "2023-02-07T00:13:23.389298Z",
          "start_time": "2023-02-07T00:13:23.332546Z"
        },
        "colab": {
          "base_uri": "https://localhost:8080/",
          "height": 264
        },
        "id": "5e4f561a",
        "outputId": "8492d0c4-b664-4f55-b372-b37ea632d021"
      },
      "outputs": [
        {
          "output_type": "display_data",
          "data": {
            "text/plain": [
              "<Figure size 1000x600 with 3 Axes>"
            ],
            "image/png": "[encoded data removed]"
          },
          "metadata": {}
        }
      ],
      "source": [
        "show_out(x_train,3)"
      ]
    },
    {
      "cell_type": "markdown",
      "id": "ad67e6e6",
      "metadata": {
        "id": "ad67e6e6"
      },
      "source": [
        "## Convolutaional Neural Networks\n",
        "CNN were specifically designed to map image data to output variables. They’re particularly strong at developing internal representations of two-dimensional images that can be used to learn position and scale invariant structures. This makes them especially good at working with data that has a spatial relationship component.\n",
        "The Basic Principle behind the working of CNN is the idea of Convolution, producing filtered Feature Maps stacked over each other.\n",
        "A convolutional neural network consists of several layers.\n",
        "1. Convolutional layers: perform mathematical operations on the input image to extract features.\n",
        "1. Pooling layers: reduce the spatial dimensions of the image while retaining important features.\n",
        "1. Fully connected layers: make the final prediction based on the features extracted by the convolutional and pooling layers.\n",
        "[Reference link to learn more about cnn](https://cs231n.github.io/convolutional-networks/)\n",
        "\n",
        "\n",
        "Now we are building a class for CNN model.\n",
        "\n",
        "### TODO 7\n",
        "1. Follow the image and create a CNN architecture\n",
        "1. Complete the forward pass code.\n",
        "\n",
        "Hint: We use `keras.layers.Conv2D` ([reference](https://keras.io/api/layers/convolution_layers/convolution2d/)) for this practice."
      ]
    },
    {
      "cell_type": "markdown",
      "id": "f6b624d9",
      "metadata": {
        "id": "f6b624d9"
      },
      "source": [
        "![](https://webpages.uncc.edu/mlee173/teach/ml/images/class/dsba6165-lab5-conv.png)"
      ]
    },
    {
      "cell_type": "code",
      "execution_count": 26,
      "id": "111d050a",
      "metadata": {
        "ExecuteTime": {
          "end_time": "2023-02-07T00:13:23.635289Z",
          "start_time": "2023-02-07T00:13:23.617677Z"
        },
        "id": "111d050a"
      },
      "outputs": [],
      "source": [
        "from tensorflow import keras\n",
        "from tensorflow.keras import layers, models, datasets\n",
        "from tensorflow.keras.layers import Conv2D, MaxPooling2D, Flatten, Dense # Import necessary layers\n",
        "\n",
        "\n",
        "\n",
        "class CNN(keras.Model):\n",
        "    \"\"\" Convolutional Neural Networks\n",
        "\n",
        "        attributes\n",
        "        ===========\n",
        "        net     Sequential\n",
        "                network built with keras.Sequential\n",
        "    \"\"\"\n",
        "\n",
        "    def __init__(self):\n",
        "        super().__init__()\n",
        "\n",
        "        # TODO: build a neural network\n",
        "        self.net = keras.Sequential([\n",
        "            Conv2D(filters=32, kernel_size=(3, 3), activation='relu', input_shape=(32, 32, 3)), # Now Conv2D is accessible\n",
        "            MaxPooling2D(pool_size=(2, 2)), # Now MaxPooling2D is accessible\n",
        "\n",
        "            Conv2D(filters=64, kernel_size=(3, 3), activation='relu'),# Now Conv2D is accessible\n",
        "            MaxPooling2D(pool_size=(2, 2)),# Now MaxPooling2D is accessible\n",
        "\n",
        "            Conv2D(filters=64, kernel_size=(3, 3), activation='relu'),# Now Conv2D is accessible\n",
        "\n",
        "            Flatten(),# Now Flatten is accessible\n",
        "            Dense(64, activation='relu'),# Now Dense is accessible\n",
        "            Dense(10, activation='softmax')# Now Dense is accessible\n",
        "        ])\n",
        "\n",
        "        # Print model summary\n",
        "        self.net.summary()\n",
        "\n",
        "\n",
        "    def call(self, input):\n",
        "        # TODO: forward pass\n",
        "        x = self.net(input)\n",
        "\n",
        "\n",
        "        return x"
      ]
    },
    {
      "cell_type": "markdown",
      "id": "2721105c",
      "metadata": {
        "id": "2721105c"
      },
      "source": [
        "### TODO 7.1\n",
        "1. Create a model using the CNN that was created above.\n",
        "    1. Hint: No arguments are needed"
      ]
    },
    {
      "cell_type": "code",
      "execution_count": 27,
      "id": "2dcafcc5",
      "metadata": {
        "ExecuteTime": {
          "end_time": "2023-02-07T00:13:24.034707Z",
          "start_time": "2023-02-07T00:13:23.956402Z"
        },
        "colab": {
          "base_uri": "https://localhost:8080/",
          "height": 452
        },
        "id": "2dcafcc5",
        "outputId": "9a4197f5-fcc6-4090-a05c-112a5a8cbfb3"
      },
      "outputs": [
        {
          "output_type": "stream",
          "name": "stderr",
          "text": [
            "/usr/local/lib/python3.11/dist-packages/keras/src/layers/convolutional/base_conv.py:107: UserWarning: Do not pass an `input_shape`/`input_dim` argument to a layer. When using Sequential models, prefer using an `Input(shape)` object as the first layer in the model instead.\n",
            "  super().__init__(activity_regularizer=activity_regularizer, **kwargs)\n"
          ]
        },
        {
          "output_type": "display_data",
          "data": {
            "text/plain": [
              "\u001b[1mModel: \"sequential\"\u001b[0m\n"
            ],
            "text/html": [
              "<pre style=\"white-space:pre;overflow-x:auto;line-height:normal;font-family:Menlo,'DejaVu Sans Mono',consolas,'Courier New',monospace\"><span style=\"font-weight: bold\">Model: \"sequential\"</span>\n",
              "</pre>\n"
            ]
          },
          "metadata": {}
        },
        {
          "output_type": "display_data",
          "data": {
            "text/plain": [
              "┏━━━━━━━━━━━━━━━━━━━━━━━━━━━━━━━━━━━━━━┳━━━━━━━━━━━━━━━━━━━━━━━━━━━━━┳━━━━━━━━━━━━━━━━━┓\n",
              "┃\u001b[1m \u001b[0m\u001b[1mLayer (type)                        \u001b[0m\u001b[1m \u001b[0m┃\u001b[1m \u001b[0m\u001b[1mOutput Shape               \u001b[0m\u001b[1m \u001b[0m┃\u001b[1m \u001b[0m\u001b[1m        Param #\u001b[0m\u001b[1m \u001b[0m┃\n",
              "┡━━━━━━━━━━━━━━━━━━━━━━━━━━━━━━━━━━━━━━╇━━━━━━━━━━━━━━━━━━━━━━━━━━━━━╇━━━━━━━━━━━━━━━━━┩\n",
              "│ conv2d (\u001b[38;5;33mConv2D\u001b[0m)                      │ (\u001b[38;5;45mNone\u001b[0m, \u001b[38;5;34m30\u001b[0m, \u001b[38;5;34m30\u001b[0m, \u001b[38;5;34m32\u001b[0m)          │             \u001b[38;5;34m896\u001b[0m │\n",
              "├──────────────────────────────────────┼─────────────────────────────┼─────────────────┤\n",
              "│ max_pooling2d_1 (\u001b[38;5;33mMaxPooling2D\u001b[0m)       │ (\u001b[38;5;45mNone\u001b[0m, \u001b[38;5;34m15\u001b[0m, \u001b[38;5;34m15\u001b[0m, \u001b[38;5;34m32\u001b[0m)          │               \u001b[38;5;34m0\u001b[0m │\n",
              "├──────────────────────────────────────┼─────────────────────────────┼─────────────────┤\n",
              "│ conv2d_1 (\u001b[38;5;33mConv2D\u001b[0m)                    │ (\u001b[38;5;45mNone\u001b[0m, \u001b[38;5;34m13\u001b[0m, \u001b[38;5;34m13\u001b[0m, \u001b[38;5;34m64\u001b[0m)          │          \u001b[38;5;34m18,496\u001b[0m │\n",
              "├──────────────────────────────────────┼─────────────────────────────┼─────────────────┤\n",
              "│ max_pooling2d_2 (\u001b[38;5;33mMaxPooling2D\u001b[0m)       │ (\u001b[38;5;45mNone\u001b[0m, \u001b[38;5;34m6\u001b[0m, \u001b[38;5;34m6\u001b[0m, \u001b[38;5;34m64\u001b[0m)            │               \u001b[38;5;34m0\u001b[0m │\n",
              "├──────────────────────────────────────┼─────────────────────────────┼─────────────────┤\n",
              "│ conv2d_2 (\u001b[38;5;33mConv2D\u001b[0m)                    │ (\u001b[38;5;45mNone\u001b[0m, \u001b[38;5;34m4\u001b[0m, \u001b[38;5;34m4\u001b[0m, \u001b[38;5;34m64\u001b[0m)            │          \u001b[38;5;34m36,928\u001b[0m │\n",
              "├──────────────────────────────────────┼─────────────────────────────┼─────────────────┤\n",
              "│ flatten (\u001b[38;5;33mFlatten\u001b[0m)                    │ (\u001b[38;5;45mNone\u001b[0m, \u001b[38;5;34m1024\u001b[0m)                │               \u001b[38;5;34m0\u001b[0m │\n",
              "├──────────────────────────────────────┼─────────────────────────────┼─────────────────┤\n",
              "│ dense (\u001b[38;5;33mDense\u001b[0m)                        │ (\u001b[38;5;45mNone\u001b[0m, \u001b[38;5;34m64\u001b[0m)                  │          \u001b[38;5;34m65,600\u001b[0m │\n",
              "├──────────────────────────────────────┼─────────────────────────────┼─────────────────┤\n",
              "│ dense_1 (\u001b[38;5;33mDense\u001b[0m)                      │ (\u001b[38;5;45mNone\u001b[0m, \u001b[38;5;34m10\u001b[0m)                  │             \u001b[38;5;34m650\u001b[0m │\n",
              "└──────────────────────────────────────┴─────────────────────────────┴─────────────────┘\n"
            ],
            "text/html": [
              "<pre style=\"white-space:pre;overflow-x:auto;line-height:normal;font-family:Menlo,'DejaVu Sans Mono',consolas,'Courier New',monospace\">┏━━━━━━━━━━━━━━━━━━━━━━━━━━━━━━━━━━━━━━┳━━━━━━━━━━━━━━━━━━━━━━━━━━━━━┳━━━━━━━━━━━━━━━━━┓\n",
              "┃<span style=\"font-weight: bold\"> Layer (type)                         </span>┃<span style=\"font-weight: bold\"> Output Shape                </span>┃<span style=\"font-weight: bold\">         Param # </span>┃\n",
              "┡━━━━━━━━━━━━━━━━━━━━━━━━━━━━━━━━━━━━━━╇━━━━━━━━━━━━━━━━━━━━━━━━━━━━━╇━━━━━━━━━━━━━━━━━┩\n",
              "│ conv2d (<span style=\"color: #0087ff; text-decoration-color: #0087ff\">Conv2D</span>)                      │ (<span style=\"color: #00d7ff; text-decoration-color: #00d7ff\">None</span>, <span style=\"color: #00af00; text-decoration-color: #00af00\">30</span>, <span style=\"color: #00af00; text-decoration-color: #00af00\">30</span>, <span style=\"color: #00af00; text-decoration-color: #00af00\">32</span>)          │             <span style=\"color: #00af00; text-decoration-color: #00af00\">896</span> │\n",
              "├──────────────────────────────────────┼─────────────────────────────┼─────────────────┤\n",
              "│ max_pooling2d_1 (<span style=\"color: #0087ff; text-decoration-color: #0087ff\">MaxPooling2D</span>)       │ (<span style=\"color: #00d7ff; text-decoration-color: #00d7ff\">None</span>, <span style=\"color: #00af00; text-decoration-color: #00af00\">15</span>, <span style=\"color: #00af00; text-decoration-color: #00af00\">15</span>, <span style=\"color: #00af00; text-decoration-color: #00af00\">32</span>)          │               <span style=\"color: #00af00; text-decoration-color: #00af00\">0</span> │\n",
              "├──────────────────────────────────────┼─────────────────────────────┼─────────────────┤\n",
              "│ conv2d_1 (<span style=\"color: #0087ff; text-decoration-color: #0087ff\">Conv2D</span>)                    │ (<span style=\"color: #00d7ff; text-decoration-color: #00d7ff\">None</span>, <span style=\"color: #00af00; text-decoration-color: #00af00\">13</span>, <span style=\"color: #00af00; text-decoration-color: #00af00\">13</span>, <span style=\"color: #00af00; text-decoration-color: #00af00\">64</span>)          │          <span style=\"color: #00af00; text-decoration-color: #00af00\">18,496</span> │\n",
              "├──────────────────────────────────────┼─────────────────────────────┼─────────────────┤\n",
              "│ max_pooling2d_2 (<span style=\"color: #0087ff; text-decoration-color: #0087ff\">MaxPooling2D</span>)       │ (<span style=\"color: #00d7ff; text-decoration-color: #00d7ff\">None</span>, <span style=\"color: #00af00; text-decoration-color: #00af00\">6</span>, <span style=\"color: #00af00; text-decoration-color: #00af00\">6</span>, <span style=\"color: #00af00; text-decoration-color: #00af00\">64</span>)            │               <span style=\"color: #00af00; text-decoration-color: #00af00\">0</span> │\n",
              "├──────────────────────────────────────┼─────────────────────────────┼─────────────────┤\n",
              "│ conv2d_2 (<span style=\"color: #0087ff; text-decoration-color: #0087ff\">Conv2D</span>)                    │ (<span style=\"color: #00d7ff; text-decoration-color: #00d7ff\">None</span>, <span style=\"color: #00af00; text-decoration-color: #00af00\">4</span>, <span style=\"color: #00af00; text-decoration-color: #00af00\">4</span>, <span style=\"color: #00af00; text-decoration-color: #00af00\">64</span>)            │          <span style=\"color: #00af00; text-decoration-color: #00af00\">36,928</span> │\n",
              "├──────────────────────────────────────┼─────────────────────────────┼─────────────────┤\n",
              "│ flatten (<span style=\"color: #0087ff; text-decoration-color: #0087ff\">Flatten</span>)                    │ (<span style=\"color: #00d7ff; text-decoration-color: #00d7ff\">None</span>, <span style=\"color: #00af00; text-decoration-color: #00af00\">1024</span>)                │               <span style=\"color: #00af00; text-decoration-color: #00af00\">0</span> │\n",
              "├──────────────────────────────────────┼─────────────────────────────┼─────────────────┤\n",
              "│ dense (<span style=\"color: #0087ff; text-decoration-color: #0087ff\">Dense</span>)                        │ (<span style=\"color: #00d7ff; text-decoration-color: #00d7ff\">None</span>, <span style=\"color: #00af00; text-decoration-color: #00af00\">64</span>)                  │          <span style=\"color: #00af00; text-decoration-color: #00af00\">65,600</span> │\n",
              "├──────────────────────────────────────┼─────────────────────────────┼─────────────────┤\n",
              "│ dense_1 (<span style=\"color: #0087ff; text-decoration-color: #0087ff\">Dense</span>)                      │ (<span style=\"color: #00d7ff; text-decoration-color: #00d7ff\">None</span>, <span style=\"color: #00af00; text-decoration-color: #00af00\">10</span>)                  │             <span style=\"color: #00af00; text-decoration-color: #00af00\">650</span> │\n",
              "└──────────────────────────────────────┴─────────────────────────────┴─────────────────┘\n",
              "</pre>\n"
            ]
          },
          "metadata": {}
        },
        {
          "output_type": "display_data",
          "data": {
            "text/plain": [
              "\u001b[1m Total params: \u001b[0m\u001b[38;5;34m122,570\u001b[0m (478.79 KB)\n"
            ],
            "text/html": [
              "<pre style=\"white-space:pre;overflow-x:auto;line-height:normal;font-family:Menlo,'DejaVu Sans Mono',consolas,'Courier New',monospace\"><span style=\"font-weight: bold\"> Total params: </span><span style=\"color: #00af00; text-decoration-color: #00af00\">122,570</span> (478.79 KB)\n",
              "</pre>\n"
            ]
          },
          "metadata": {}
        },
        {
          "output_type": "display_data",
          "data": {
            "text/plain": [
              "\u001b[1m Trainable params: \u001b[0m\u001b[38;5;34m122,570\u001b[0m (478.79 KB)\n"
            ],
            "text/html": [
              "<pre style=\"white-space:pre;overflow-x:auto;line-height:normal;font-family:Menlo,'DejaVu Sans Mono',consolas,'Courier New',monospace\"><span style=\"font-weight: bold\"> Trainable params: </span><span style=\"color: #00af00; text-decoration-color: #00af00\">122,570</span> (478.79 KB)\n",
              "</pre>\n"
            ]
          },
          "metadata": {}
        },
        {
          "output_type": "display_data",
          "data": {
            "text/plain": [
              "\u001b[1m Non-trainable params: \u001b[0m\u001b[38;5;34m0\u001b[0m (0.00 B)\n"
            ],
            "text/html": [
              "<pre style=\"white-space:pre;overflow-x:auto;line-height:normal;font-family:Menlo,'DejaVu Sans Mono',consolas,'Courier New',monospace\"><span style=\"font-weight: bold\"> Non-trainable params: </span><span style=\"color: #00af00; text-decoration-color: #00af00\">0</span> (0.00 B)\n",
              "</pre>\n"
            ]
          },
          "metadata": {}
        }
      ],
      "source": [
        "# TODO: build a model\n",
        "model =  CNN()"
      ]
    },
    {
      "cell_type": "markdown",
      "id": "a5c8453c",
      "metadata": {
        "id": "a5c8453c"
      },
      "source": [
        "### TODO 7.2\n",
        "1. Using `compile`, prepare your model to have \"Adam\" as an `optimizer`, have a `loss` function to be \"SparseCategoricalCrossentropy\" also it should take argument as(from_logits=True) and `metrics` as \"accuracy\"."
      ]
    },
    {
      "cell_type": "code",
      "execution_count": 28,
      "id": "69406ff4",
      "metadata": {
        "ExecuteTime": {
          "end_time": "2023-02-07T00:13:24.522600Z",
          "start_time": "2023-02-07T00:13:24.498780Z"
        },
        "id": "69406ff4"
      },
      "outputs": [],
      "source": [
        "# TODO: compile with three metrics\n",
        "model.compile(optimizer='adam', loss='sparse_categorical_crossentropy', metrics=['accuracy'])\n"
      ]
    },
    {
      "cell_type": "markdown",
      "id": "9a94ed7f",
      "metadata": {
        "id": "9a94ed7f"
      },
      "source": [
        "### TODO 7.3\n",
        "1. Using `fit`, train the model with training data (`x_train` and `y_train`). Train the model for 10 epochs, and \"validation_data\" be a tuple of test dataset.\n",
        "\n",
        "<font color='red' style='bold'>NOTE: this code runs for a long time. Be sure to run in colab or on GPU. </font>\n",
        "\n"
      ]
    },
    {
      "cell_type": "code",
      "source": [
        "x_train.shape, y_train.shape"
      ],
      "metadata": {
        "colab": {
          "base_uri": "https://localhost:8080/"
        },
        "id": "10QMeRufhmWT",
        "outputId": "17423fbe-65ff-4944-b4de-34203aa24ee4"
      },
      "id": "10QMeRufhmWT",
      "execution_count": 29,
      "outputs": [
        {
          "output_type": "execute_result",
          "data": {
            "text/plain": [
              "((50000, 32, 32, 3), (50000, 1))"
            ]
          },
          "metadata": {},
          "execution_count": 29
        }
      ]
    },
    {
      "cell_type": "code",
      "execution_count": 30,
      "id": "926feac9",
      "metadata": {
        "ExecuteTime": {
          "end_time": "2023-02-07T00:16:03.272675Z",
          "start_time": "2023-02-07T00:13:24.879278Z"
        },
        "colab": {
          "base_uri": "https://localhost:8080/"
        },
        "id": "926feac9",
        "outputId": "b9294aa6-851e-442f-bc94-05349923dd3a"
      },
      "outputs": [
        {
          "output_type": "stream",
          "name": "stdout",
          "text": [
            "Epoch 1/10\n",
            "\u001b[1m1563/1563\u001b[0m \u001b[32m━━━━━━━━━━━━━━━━━━━━\u001b[0m\u001b[37m\u001b[0m \u001b[1m73s\u001b[0m 46ms/step - accuracy: 0.3472 - loss: 1.7626 - val_accuracy: 0.5448 - val_loss: 1.2706\n",
            "Epoch 2/10\n",
            "\u001b[1m1563/1563\u001b[0m \u001b[32m━━━━━━━━━━━━━━━━━━━━\u001b[0m\u001b[37m\u001b[0m \u001b[1m82s\u001b[0m 46ms/step - accuracy: 0.5757 - loss: 1.1910 - val_accuracy: 0.6142 - val_loss: 1.0797\n",
            "Epoch 3/10\n",
            "\u001b[1m1563/1563\u001b[0m \u001b[32m━━━━━━━━━━━━━━━━━━━━\u001b[0m\u001b[37m\u001b[0m \u001b[1m84s\u001b[0m 47ms/step - accuracy: 0.6394 - loss: 1.0263 - val_accuracy: 0.6580 - val_loss: 0.9727\n",
            "Epoch 4/10\n",
            "\u001b[1m1563/1563\u001b[0m \u001b[32m━━━━━━━━━━━━━━━━━━━━\u001b[0m\u001b[37m\u001b[0m \u001b[1m78s\u001b[0m 45ms/step - accuracy: 0.6829 - loss: 0.9048 - val_accuracy: 0.6736 - val_loss: 0.9368\n",
            "Epoch 5/10\n",
            "\u001b[1m1563/1563\u001b[0m \u001b[32m━━━━━━━━━━━━━━━━━━━━\u001b[0m\u001b[37m\u001b[0m \u001b[1m79s\u001b[0m 51ms/step - accuracy: 0.7126 - loss: 0.8192 - val_accuracy: 0.6845 - val_loss: 0.9122\n",
            "Epoch 6/10\n",
            "\u001b[1m1563/1563\u001b[0m \u001b[32m━━━━━━━━━━━━━━━━━━━━\u001b[0m\u001b[37m\u001b[0m \u001b[1m74s\u001b[0m 47ms/step - accuracy: 0.7332 - loss: 0.7612 - val_accuracy: 0.6927 - val_loss: 0.8951\n",
            "Epoch 7/10\n",
            "\u001b[1m1563/1563\u001b[0m \u001b[32m━━━━━━━━━━━━━━━━━━━━\u001b[0m\u001b[37m\u001b[0m \u001b[1m80s\u001b[0m 46ms/step - accuracy: 0.7510 - loss: 0.7114 - val_accuracy: 0.7057 - val_loss: 0.8491\n",
            "Epoch 8/10\n",
            "\u001b[1m1563/1563\u001b[0m \u001b[32m━━━━━━━━━━━━━━━━━━━━\u001b[0m\u001b[37m\u001b[0m \u001b[1m71s\u001b[0m 46ms/step - accuracy: 0.7708 - loss: 0.6514 - val_accuracy: 0.7007 - val_loss: 0.9038\n",
            "Epoch 9/10\n",
            "\u001b[1m1563/1563\u001b[0m \u001b[32m━━━━━━━━━━━━━━━━━━━━\u001b[0m\u001b[37m\u001b[0m \u001b[1m83s\u001b[0m 46ms/step - accuracy: 0.7842 - loss: 0.6108 - val_accuracy: 0.7076 - val_loss: 0.8869\n",
            "Epoch 10/10\n",
            "\u001b[1m1563/1563\u001b[0m \u001b[32m━━━━━━━━━━━━━━━━━━━━\u001b[0m\u001b[37m\u001b[0m \u001b[1m81s\u001b[0m 46ms/step - accuracy: 0.7995 - loss: 0.5640 - val_accuracy: 0.7209 - val_loss: 0.8582\n"
          ]
        }
      ],
      "source": [
        "# TODO: train\n",
        "history = model.fit(x_train, y_train, epochs=10, validation_data=(x_test, y_test))\n",
        "\n",
        "\n"
      ]
    },
    {
      "cell_type": "markdown",
      "id": "9ff9f962",
      "metadata": {
        "id": "9ff9f962"
      },
      "source": [
        "\n",
        "We have Created `plot_learning` function that plots the training and validation loss learning curve using the `history` argument."
      ]
    },
    {
      "cell_type": "code",
      "execution_count": 31,
      "id": "eed1bf6d",
      "metadata": {
        "ExecuteTime": {
          "end_time": "2023-02-07T00:16:03.278750Z",
          "start_time": "2023-02-07T00:16:03.275036Z"
        },
        "id": "eed1bf6d"
      },
      "outputs": [],
      "source": [
        "def plot_learning(history, tgt='loss', val_tgt='val_loss', ylab='error'):\n",
        "    plt.plot(history.history[tgt], label=tgt)\n",
        "    plt.plot(history.history[val_tgt], label=val_tgt)\n",
        "    plt.xlabel('Epoch')\n",
        "    plt.ylabel(ylab)\n",
        "    plt.legend()"
      ]
    },
    {
      "cell_type": "markdown",
      "id": "3a7ec61d",
      "metadata": {
        "id": "3a7ec61d"
      },
      "source": [
        "### TODO 7.4\n",
        "1.Plot the history using the `plot_learning`function which we created above."
      ]
    },
    {
      "cell_type": "code",
      "execution_count": 32,
      "id": "1c8e70c2",
      "metadata": {
        "ExecuteTime": {
          "end_time": "2023-02-07T00:16:03.351338Z",
          "start_time": "2023-02-07T00:16:03.280175Z"
        },
        "colab": {
          "base_uri": "https://localhost:8080/",
          "height": 449
        },
        "id": "1c8e70c2",
        "outputId": "ace92f75-3dc7-4b4c-a85e-9351675a146e"
      },
      "outputs": [
        {
          "output_type": "display_data",
          "data": {
            "text/plain": [
              "<Figure size 640x480 with 1 Axes>"
            ],
            "image/png": "[encoded data removed]"
          },
          "metadata": {}
        }
      ],
      "source": [
        "#TODO\n",
        "plot_learning(history)\n"
      ]
    },
    {
      "cell_type": "markdown",
      "id": "7e664b6a",
      "metadata": {
        "id": "7e664b6a"
      },
      "source": [
        "### TODO 7.5\n",
        "1.Using the `plot_learning` function plot the history but now give additional arguments such as 'accuracy', 'val_accuracy' and  'Accuracy'"
      ]
    },
    {
      "cell_type": "code",
      "execution_count": 33,
      "id": "e3399141",
      "metadata": {
        "ExecuteTime": {
          "end_time": "2023-02-07T00:16:03.612796Z",
          "start_time": "2023-02-07T00:16:03.352946Z"
        },
        "colab": {
          "base_uri": "https://localhost:8080/",
          "height": 449
        },
        "id": "e3399141",
        "outputId": "1e56635b-1cda-47ee-bdaf-d28164764a14"
      },
      "outputs": [
        {
          "output_type": "display_data",
          "data": {
            "text/plain": [
              "<Figure size 640x480 with 1 Axes>"
            ],
            "image/png": "[encoded data removed]"
          },
          "metadata": {}
        }
      ],
      "source": [
        "plot_learning(history, 'accuracy', 'val_accuracy', 'Accuracy')\n"
      ]
    },
    {
      "cell_type": "markdown",
      "id": "be9a60c0",
      "metadata": {
        "id": "be9a60c0"
      },
      "source": [
        "### TODO 7.6\n",
        "1. `evaluate` the model on test data (`x_test` and `y_test`)."
      ]
    },
    {
      "cell_type": "code",
      "execution_count": 34,
      "id": "f6d4ae55",
      "metadata": {
        "ExecuteTime": {
          "end_time": "2023-02-07T00:16:04.986142Z",
          "start_time": "2023-02-07T00:16:03.613629Z"
        },
        "colab": {
          "base_uri": "https://localhost:8080/"
        },
        "id": "f6d4ae55",
        "outputId": "f4ae827f-2fff-4062-c630-ed3221b79c86"
      },
      "outputs": [
        {
          "output_type": "stream",
          "name": "stdout",
          "text": [
            "\u001b[1m313/313\u001b[0m \u001b[32m━━━━━━━━━━━━━━━━━━━━\u001b[0m\u001b[37m\u001b[0m \u001b[1m5s\u001b[0m 17ms/step - accuracy: 0.7247 - loss: 0.8517\n"
          ]
        },
        {
          "output_type": "execute_result",
          "data": {
            "text/plain": [
              "[0.8581929802894592, 0.7208999991416931]"
            ]
          },
          "metadata": {},
          "execution_count": 34
        }
      ],
      "source": [
        "# TODO:\n",
        "model.evaluate(x_test, y_test)\n"
      ]
    },
    {
      "cell_type": "markdown",
      "id": "7f1964c8",
      "metadata": {
        "id": "7f1964c8"
      },
      "source": [
        "In many cases, where the size of the array is too large, it takes too much time to find the maximum elements from them. For this purpose, the numpy module of Python provides a function called `numpy.argmax()`. This function returns indices of the maximum values are returned along with the specified axis.\n",
        "### TODO 7.7\n",
        "1. predict the model on test data (`x_test`) using `predict` function.\n",
        "2. Pass the output of this function to the `np.argmax` function."
      ]
    },
    {
      "cell_type": "code",
      "execution_count": 35,
      "id": "c188ecae",
      "metadata": {
        "ExecuteTime": {
          "end_time": "2023-02-07T00:16:06.348990Z",
          "start_time": "2023-02-07T00:16:04.987501Z"
        },
        "colab": {
          "base_uri": "https://localhost:8080/"
        },
        "id": "c188ecae",
        "outputId": "0d934afb-9029-4397-a60c-797d06853add"
      },
      "outputs": [
        {
          "output_type": "stream",
          "name": "stdout",
          "text": [
            "\u001b[1m313/313\u001b[0m \u001b[32m━━━━━━━━━━━━━━━━━━━━\u001b[0m\u001b[37m\u001b[0m \u001b[1m4s\u001b[0m 12ms/step\n"
          ]
        }
      ],
      "source": [
        "# TODO:\n",
        "y_pred = model.predict(x_test)\n",
        "y_pred = np.argmax(y_pred, axis=1)\n"
      ]
    },
    {
      "cell_type": "code",
      "execution_count": 36,
      "id": "685ee5a5",
      "metadata": {
        "ExecuteTime": {
          "end_time": "2023-02-07T00:16:06.353260Z",
          "start_time": "2023-02-07T00:16:06.349976Z"
        },
        "id": "685ee5a5",
        "outputId": "c610f02e-d393-4795-da51-b75ef17583da",
        "colab": {
          "base_uri": "https://localhost:8080/"
        }
      },
      "outputs": [
        {
          "output_type": "execute_result",
          "data": {
            "text/plain": [
              "array([3, 8, 8, ..., 5, 1, 7])"
            ]
          },
          "metadata": {},
          "execution_count": 36
        }
      ],
      "source": [
        "y_pred"
      ]
    },
    {
      "cell_type": "markdown",
      "id": "1d1535f0",
      "metadata": {
        "id": "1d1535f0"
      },
      "source": [
        "### TODO 7.8\n",
        "And finally lets plot the first 10 images of y_pred using subplot\n",
        "1. Referring TODO 2.2, show the first 10 images with both labels and predictions.\n",
        "  * HINT: `show_img` has `bot` and `title` arguments for you to use for predictions and labels."
      ]
    },
    {
      "cell_type": "code",
      "execution_count": 37,
      "id": "5ae9323a",
      "metadata": {
        "ExecuteTime": {
          "end_time": "2023-02-07T00:16:06.537020Z",
          "start_time": "2023-02-07T00:16:06.354083Z"
        },
        "colab": {
          "base_uri": "https://localhost:8080/",
          "height": 473
        },
        "id": "5ae9323a",
        "outputId": "3f2b08b3-b6ce-4df6-e3bf-f87b96ea886f"
      },
      "outputs": [
        {
          "output_type": "display_data",
          "data": {
            "text/plain": [
              "<Figure size 1000x500 with 10 Axes>"
            ],
            "image/png": "[encoded data removed]"
          },
          "metadata": {}
        }
      ],
      "source": [
        "# TODO: plot first 10 images using subplot\n",
        "fig, axes = plt.subplots(nrows=2, ncols=5, figsize=(10, 5))\n",
        "\n",
        "# Flatten the axes array for easy iteration\n",
        "axes = axes.flatten()\n",
        "\n",
        "# Loop through the first 10 images\n",
        "for i in range(10):\n",
        "    plt.sca(axes[i])  # Set the current axis to plot\n",
        "    show_img(x_test[i], title=f\"{s_labels[y_pred[i]]} ({y_pred[i]})\", bot=\"\")\n",
        "\n",
        "# Adjust layout for proper spacing\n",
        "plt.tight_layout()\n",
        "plt.show()\n",
        "\n",
        "\n",
        "\n",
        "\n",
        "\n",
        "\n",
        "\n",
        "\n",
        "\n",
        "\n"
      ]
    }
  ],
  "metadata": {
    "accelerator": "GPU",
    "colab": {
      "provenance": []
    },
    "gpuClass": "standard",
    "kernelspec": {
      "display_name": "Python 3 (ipykernel)",
      "language": "python",
      "name": "python3"
    },
    "language_info": {
      "codemirror_mode": {
        "name": "ipython",
        "version": 3
      },
      "file_extension": ".py",
      "mimetype": "text/x-python",
      "name": "python",
      "nbconvert_exporter": "python",
      "pygments_lexer": "ipython3",
      "version": "3.9.13"
    },
    "toc": {
      "base_numbering": 1,
      "nav_menu": {},
      "number_sections": true,
      "sideBar": true,
      "skip_h1_title": false,
      "title_cell": "Table of Contents",
      "title_sidebar": "Contents",
      "toc_cell": false,
      "toc_position": {
        "height": "calc(100% - 180px)",
        "left": "10px",
        "top": "150px",
        "width": "302.391px"
      },
      "toc_section_display": true,
      "toc_window_display": true
    }
  },
  "nbformat": 4,
  "nbformat_minor": 5
}